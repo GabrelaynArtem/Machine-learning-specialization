{
 "cells": [
  {
   "cell_type": "markdown",
   "metadata": {},
   "source": [
    "# Упражнения для решения задачи 2 недели (про кошек)"
   ]
  },
  {
   "cell_type": "markdown",
   "metadata": {},
   "source": [
    "**1** Откройте на чтение файл anaconda.txt."
   ]
  },
  {
   "cell_type": "code",
   "execution_count": 20,
   "metadata": {},
   "outputs": [],
   "source": [
    "file = open('anaconda.txt', 'r')"
   ]
  },
  {
   "cell_type": "markdown",
   "metadata": {},
   "source": [
    "*Подсказка*\n",
    "\n",
    "Используйте функцию open(). https://pythonworld.ru/tipy-dannyx-v-python/fajly-rabota-s-fajlami.html\n",
    "    \n",
    "<hr>"
   ]
  },
  {
   "cell_type": "markdown",
   "metadata": {},
   "source": [
    "**2** пройдите по каждой строке открывшегося файла в цикле. Чтобы убедиться что вы идёте по строке выведите её на печать.\n",
    "Чтобы убедиться что каждая строка выводится на 1 шаг цикла выведите на печать разделитесь на новой строке (например, \"____\")"
   ]
  },
  {
   "cell_type": "code",
   "execution_count": 2,
   "metadata": {},
   "outputs": [
    {
     "name": "stdout",
     "output_type": "stream",
     "text": [
      "Any large snake that \"constricts\" its prey (see Constriction), if applied loosely, was called anaconda, though this usage is now archaic.\n",
      "\n",
      "An anaconda is a large snake found in tropical South America.\n",
      "\n",
      "Although the name applies to a group of snakes, it is often used to refer only to one species in particular, the common or green anaconda, Eunectes murinus, which is the largest snake in the world by weight, and the second longest.\n",
      "\n",
      "The giant anaconda is a mythical snake of enormous proportions said to be found in South America.\n",
      "\n",
      "Anaconda is an unincorporated community in Franklin County, Missouri, in the United States.\n",
      "\n",
      "In 1903, the Socialist Party of America won its first victory west of the Mississippi when Anaconda voters elected a socialist mayor, treasurer, police judge, and three councilmen.\n",
      "\n",
      "Anaconda was founded by Marcus Daly, one of the Copper Kings, who financed the construction of a smelter on nearby Warm Springs Creek to process copper ore from the Butte mines.\n",
      "\n",
      "Anaconda, county seat of Anaconda-Deer Lodge County, which has a consolidated city-county government, is located in southwestern Montana of the United States. \n",
      "\n",
      "The Anaconda Plan is the name applied to an outline strategy for suppressing the Confederacy at the beginning of the American Civil War.\n",
      "\n",
      "Because the blockade would be rather passive, it was widely derided by the vociferous faction who wanted a more vigorous prosecution of the war, and who likened it to the coils of an anaconda suffocating its victim.\n",
      "\n",
      "Consequently, the Anaconda has been somewhat rehabilitated, and general histories of the Civil War often credit it with guiding President Abraham Lincoln's strategy throughout.\n",
      "\n",
      "Anaconda is a 1997 adventure-horror film, directed by Luis Llosa, starring Jennifer Lopez, Ice Cube, Jon Voight, and Eric Stoltz.\n",
      "\n",
      "The film was followed by three sequels, Anacondas: The Hunt for the Blood Orchid in 2004, which was released to theaters and two made-for-television films, Anaconda 3: Offspring (2008) and Anacondas: Trail of Blood (2009) and the crossover film with the Lake Placid franchise, Lake Placid vs. Anaconda (2015).\n",
      "\n",
      "Anaconda (Blanche Sitznski) is a supervillain appearing in American comic books published by Marvel Comics. \n",
      "\n",
      "Sitznski was given her super human abilities by the Roxxon corporation, dubbing her Anaconda due to her powerful, adamantium enhanced arms she uses to constrain or crush her opponents with.\n",
      "\n",
      "Anaconda was created by Mark Gruenwald and Ralph Macchio and first appeared in Marvel Two-in-One #64 in June 1980.\n",
      "\n",
      "Anaconda freed herself and her teammates from their underwater captivity using her brute strength, and they were sent on another mission—this time, to search for a powerful weapon known as the Micro-Scanner.\n",
      "\n",
      "Anaconda has the superhuman ability to elongate her limbs and constrict her opponents.\n",
      "\n",
      "Anaconda has incredible recuperative abilities and she is able to heal non-fatal wounds several times faster than a normal human being.\n",
      "\n",
      "Built by Arrow Dynamics and designed by Ron Toomer, Anaconda opened in 1991 as the first looping roller coaster to feature an underwater tunnel and the first at Kings Dominion with more than one inversion.\n",
      "\n",
      "From there riders plunge 144 feet (44 m) twisting to the right passing an on-ride camera and entering an underwater tunnel.\n",
      "\n",
      "The train exits the tunnel entering a 360-degree vertical loop followed by a sidewinder inversion (a half loop that uses a corkscrew at the top to change direction).\n",
      "\n",
      "The second part of the ride begins with a butterfly figure-eight element consisting of sharp twists and turns.\n",
      "\n",
      "\"Anaconda\" is a song by Trinidadian-born American rapper Nicki Minaj, from her third studio album, The Pinkprint (2014).\n",
      "\n",
      "Upon release \"Anaconda\" was met with mixed to positive reviews from music critics, with some of them praising the song's production and Minaj's return to her hip-hop roots.\n",
      "\n",
      "To further promote the song, Minaj performed it live at the 2014 MTV Video Music Awards and also performed it at Fashion Rocks and the iHeartRadio Music Festival. \n",
      "\n",
      "Carolyn Menyes from Music Times gave the song a positive review, calling it a bit \"raunchy\" though this was \"expected\" and saying \"Anaconda\" continues Minaj's promise to move away from her poppier singles such as \"Super Bass\" and \"Starships\", and go back to her hardcore rap roots.\n",
      "\n",
      "From 1892 through 1903, the Anaconda mine was the largest copper-producing mine in the world.\n",
      "\n",
      "In mid-October 1895 the Rothschilds, French and British, bought one quarter of the stock in Anaconda for $7.5 million.\n",
      "\n",
      "By 1899 Amalgamated Copper acquired majority stock in the Anaconda Copper Company, and the Rothschilds appear to have had no further role in the company. \n",
      "\n",
      "In 1928 Ryan and Percy Rockefeller aggressively speculated on Anaconda shares, causing them to go up at first (at which point they sold) and then to go down (at which point they bought them back).\n",
      "\n",
      "Anaconda ranked 58th among United States corporations in the value of World War II-military production contracts.\n",
      "\n",
      "The workers who are under the “copper collar” are referred to as “snakes” and the Anaconda Company is referred to as an “ogre”.\n",
      "\n",
      "Introduced in 1990, the Colt Anaconda is a large frame double-action revolver featuring a full length under-barrel ejection-rod lug and six round cylinder, designed and produced by the Colt's Manufacturing Company.\n",
      "\n",
      "There were 2000 Kodiaks made as a special run of Anacondas, breaking away from their long history of naming revolvers after snakes.\n",
      "\n",
      "There was an uncataloged 5\" barrel version of the Anaconda, with reportedly less than 150 made.\n",
      "\n",
      "The trigger actions on these guns are rated as very high-quality, and the heavy-duty solid construction and weight tends to absorb recoil, making the Anaconda relatively easy to shoot with heavy loads.\n",
      "\n",
      "Anaconda III at 101 ft (31 m) is one of the largest yachts sailing the Whitsunday Islands in Queensland, Australia.\n",
      "\n",
      "Anaconda III has been doing 3 day 3 night sail and dive trips for over 11 years.\n",
      "\n",
      "With 2 departures per week the Anaconda III will typically spend two days in the Whitsunday Islands visiting locations such as Whitehaven beach, Luncheon Bay and Blue Pearl bay.\n",
      "\n",
      "The Anaconda Range, informally known as the \"Pintlars\", is a group of high mountains located in southwestern Montana, in the northwestern United States.\n",
      "\n",
      "Anaconda, a hidden variant of Snake (video game) in the TimeSplitters series.\n",
      "\n",
      "Anaconda offers a text-mode and GUI mode, so users can install on a wide range of systems.\n",
      "\n",
      "Anaconda also has a custom text frontend with support for computers with line printer like terminals, such as the IBM ESA/390 mainframes.\n"
     ]
    }
   ],
   "source": [
    "for line in file:\n",
    "    print(line)"
   ]
  },
  {
   "cell_type": "markdown",
   "metadata": {},
   "source": [
    "*Подсказка*\n",
    "\n",
    "Не обязательно использовать readlines(). Можно просто в цикле идти по всем элементам файла f.\n",
    "\n",
    "<code>for line in f:\n",
    "\n",
    "    #ваш код\n",
    "</code>\n",
    "\n",
    "<hr>"
   ]
  },
  {
   "cell_type": "markdown",
   "metadata": {},
   "source": [
    "**3** Для строки string примените функцию lower() для приведения к нижнему регистру. Чтобы убедиться в результате выведите её на печать."
   ]
  },
  {
   "cell_type": "code",
   "execution_count": 12,
   "metadata": {},
   "outputs": [
    {
     "name": "stdout",
     "output_type": "stream",
     "text": [
      "Справка. Выдана магАзинОм № 8 иностранцу с табуреткой. Подтверждается, что слона он купил в нашем магазине. Покупайте наших слонов!\n"
     ]
    }
   ],
   "source": [
    "s = \"Справка. Выдана магАзинОм № 8 иностранцу с табуреткой. Подтверждается, что слона он купил в нашем магазине. Покупайте наших слонов!\"\n",
    "print(s.lower())"
   ]
  },
  {
   "cell_type": "markdown",
   "metadata": {},
   "source": [
    "*Подсказка*\n",
    "\n",
    "http://pythonz.net/references/named/str.lower/\n",
    "    \n",
    "<hr>"
   ]
  },
  {
   "cell_type": "markdown",
   "metadata": {},
   "source": [
    "**4** повторите код пункта 2, но приведите каждую строку к нижнему регистру с помощью lower()"
   ]
  },
  {
   "cell_type": "code",
   "execution_count": 15,
   "metadata": {},
   "outputs": [
    {
     "name": "stdout",
     "output_type": "stream",
     "text": [
      "any large snake that \"constricts\" its prey (see constriction), if applied loosely, was called anaconda, though this usage is now archaic.\n",
      "\n",
      "an anaconda is a large snake found in tropical south america.\n",
      "\n",
      "although the name applies to a group of snakes, it is often used to refer only to one species in particular, the common or green anaconda, eunectes murinus, which is the largest snake in the world by weight, and the second longest.\n",
      "\n",
      "the giant anaconda is a mythical snake of enormous proportions said to be found in south america.\n",
      "\n",
      "anaconda is an unincorporated community in franklin county, missouri, in the united states.\n",
      "\n",
      "in 1903, the socialist party of america won its first victory west of the mississippi when anaconda voters elected a socialist mayor, treasurer, police judge, and three councilmen.\n",
      "\n",
      "anaconda was founded by marcus daly, one of the copper kings, who financed the construction of a smelter on nearby warm springs creek to process copper ore from the butte mines.\n",
      "\n",
      "anaconda, county seat of anaconda-deer lodge county, which has a consolidated city-county government, is located in southwestern montana of the united states. \n",
      "\n",
      "the anaconda plan is the name applied to an outline strategy for suppressing the confederacy at the beginning of the american civil war.\n",
      "\n",
      "because the blockade would be rather passive, it was widely derided by the vociferous faction who wanted a more vigorous prosecution of the war, and who likened it to the coils of an anaconda suffocating its victim.\n",
      "\n",
      "consequently, the anaconda has been somewhat rehabilitated, and general histories of the civil war often credit it with guiding president abraham lincoln's strategy throughout.\n",
      "\n",
      "anaconda is a 1997 adventure-horror film, directed by luis llosa, starring jennifer lopez, ice cube, jon voight, and eric stoltz.\n",
      "\n",
      "the film was followed by three sequels, anacondas: the hunt for the blood orchid in 2004, which was released to theaters and two made-for-television films, anaconda 3: offspring (2008) and anacondas: trail of blood (2009) and the crossover film with the lake placid franchise, lake placid vs. anaconda (2015).\n",
      "\n",
      "anaconda (blanche sitznski) is a supervillain appearing in american comic books published by marvel comics. \n",
      "\n",
      "sitznski was given her super human abilities by the roxxon corporation, dubbing her anaconda due to her powerful, adamantium enhanced arms she uses to constrain or crush her opponents with.\n",
      "\n",
      "anaconda was created by mark gruenwald and ralph macchio and first appeared in marvel two-in-one #64 in june 1980.\n",
      "\n",
      "anaconda freed herself and her teammates from their underwater captivity using her brute strength, and they were sent on another mission—this time, to search for a powerful weapon known as the micro-scanner.\n",
      "\n",
      "anaconda has the superhuman ability to elongate her limbs and constrict her opponents.\n",
      "\n",
      "anaconda has incredible recuperative abilities and she is able to heal non-fatal wounds several times faster than a normal human being.\n",
      "\n",
      "built by arrow dynamics and designed by ron toomer, anaconda opened in 1991 as the first looping roller coaster to feature an underwater tunnel and the first at kings dominion with more than one inversion.\n",
      "\n",
      "from there riders plunge 144 feet (44 m) twisting to the right passing an on-ride camera and entering an underwater tunnel.\n",
      "\n",
      "the train exits the tunnel entering a 360-degree vertical loop followed by a sidewinder inversion (a half loop that uses a corkscrew at the top to change direction).\n",
      "\n",
      "the second part of the ride begins with a butterfly figure-eight element consisting of sharp twists and turns.\n",
      "\n",
      "\"anaconda\" is a song by trinidadian-born american rapper nicki minaj, from her third studio album, the pinkprint (2014).\n",
      "\n",
      "upon release \"anaconda\" was met with mixed to positive reviews from music critics, with some of them praising the song's production and minaj's return to her hip-hop roots.\n",
      "\n",
      "to further promote the song, minaj performed it live at the 2014 mtv video music awards and also performed it at fashion rocks and the iheartradio music festival. \n",
      "\n",
      "carolyn menyes from music times gave the song a positive review, calling it a bit \"raunchy\" though this was \"expected\" and saying \"anaconda\" continues minaj's promise to move away from her poppier singles such as \"super bass\" and \"starships\", and go back to her hardcore rap roots.\n",
      "\n",
      "from 1892 through 1903, the anaconda mine was the largest copper-producing mine in the world.\n",
      "\n",
      "in mid-october 1895 the rothschilds, french and british, bought one quarter of the stock in anaconda for $7.5 million.\n",
      "\n",
      "by 1899 amalgamated copper acquired majority stock in the anaconda copper company, and the rothschilds appear to have had no further role in the company. \n",
      "\n",
      "in 1928 ryan and percy rockefeller aggressively speculated on anaconda shares, causing them to go up at first (at which point they sold) and then to go down (at which point they bought them back).\n",
      "\n",
      "anaconda ranked 58th among united states corporations in the value of world war ii-military production contracts.\n",
      "\n",
      "the workers who are under the “copper collar” are referred to as “snakes” and the anaconda company is referred to as an “ogre”.\n",
      "\n",
      "introduced in 1990, the colt anaconda is a large frame double-action revolver featuring a full length under-barrel ejection-rod lug and six round cylinder, designed and produced by the colt's manufacturing company.\n",
      "\n",
      "there were 2000 kodiaks made as a special run of anacondas, breaking away from their long history of naming revolvers after snakes.\n",
      "\n",
      "there was an uncataloged 5\" barrel version of the anaconda, with reportedly less than 150 made.\n",
      "\n",
      "the trigger actions on these guns are rated as very high-quality, and the heavy-duty solid construction and weight tends to absorb recoil, making the anaconda relatively easy to shoot with heavy loads.\n",
      "\n",
      "anaconda iii at 101 ft (31 m) is one of the largest yachts sailing the whitsunday islands in queensland, australia.\n",
      "\n",
      "anaconda iii has been doing 3 day 3 night sail and dive trips for over 11 years.\n",
      "\n",
      "with 2 departures per week the anaconda iii will typically spend two days in the whitsunday islands visiting locations such as whitehaven beach, luncheon bay and blue pearl bay.\n",
      "\n",
      "the anaconda range, informally known as the \"pintlars\", is a group of high mountains located in southwestern montana, in the northwestern united states.\n",
      "\n",
      "anaconda, a hidden variant of snake (video game) in the timesplitters series.\n",
      "\n",
      "anaconda offers a text-mode and gui mode, so users can install on a wide range of systems.\n",
      "\n",
      "anaconda also has a custom text frontend with support for computers with line printer like terminals, such as the ibm esa/390 mainframes.\n"
     ]
    }
   ],
   "source": [
    "for line in file:\n",
    "    print(line.lower())"
   ]
  },
  {
   "cell_type": "markdown",
   "metadata": {},
   "source": [
    "<hr>"
   ]
  },
  {
   "cell_type": "markdown",
   "metadata": {},
   "source": [
    "**5** Загрузите модуль re.\n",
    "\n",
    "Разбейте строку string на отдельные слова с помощью re.split('[^a-z]', string). Результат (список) выведите на печать."
   ]
  },
  {
   "cell_type": "code",
   "execution_count": 19,
   "metadata": {},
   "outputs": [
    {
     "name": "stdout",
     "output_type": "stream",
     "text": [
      "['', 'naconda', 'is', 'an', 'unincorporated', 'community', 'in', '', 'ranklin', '', 'ounty', '', '', 'issouri', '', 'in', 'the', '', 'nited', '', 'tates', '']\n"
     ]
    }
   ],
   "source": [
    "string = \"Anaconda is an unincorporated community in Franklin County, Missouri, in the United States.\"\n",
    "import re\n",
    "print(re.split('[^a-z]', string))"
   ]
  },
  {
   "cell_type": "markdown",
   "metadata": {},
   "source": [
    "<hr>"
   ]
  },
  {
   "cell_type": "markdown",
   "metadata": {},
   "source": [
    "**6** Повторите код пункта 4, но после приведения к нижнему регистру разбейте строку на слова с помощью re.split и выведите на печать список слов каждой строки."
   ]
  },
  {
   "cell_type": "code",
   "execution_count": 22,
   "metadata": {},
   "outputs": [
    {
     "name": "stdout",
     "output_type": "stream",
     "text": [
      "['any', 'large', 'snake', 'that', '', 'constricts', '', 'its', 'prey', '', 'see', 'constriction', '', '', 'if', 'applied', 'loosely', '', 'was', 'called', 'anaconda', '', 'though', 'this', 'usage', 'is', 'now', 'archaic', '', '']\n",
      "['an', 'anaconda', 'is', 'a', 'large', 'snake', 'found', 'in', 'tropical', 'south', 'america', '', '']\n",
      "['although', 'the', 'name', 'applies', 'to', 'a', 'group', 'of', 'snakes', '', 'it', 'is', 'often', 'used', 'to', 'refer', 'only', 'to', 'one', 'species', 'in', 'particular', '', 'the', 'common', 'or', 'green', 'anaconda', '', 'eunectes', 'murinus', '', 'which', 'is', 'the', 'largest', 'snake', 'in', 'the', 'world', 'by', 'weight', '', 'and', 'the', 'second', 'longest', '', '']\n",
      "['the', 'giant', 'anaconda', 'is', 'a', 'mythical', 'snake', 'of', 'enormous', 'proportions', 'said', 'to', 'be', 'found', 'in', 'south', 'america', '', '']\n",
      "['anaconda', 'is', 'an', 'unincorporated', 'community', 'in', 'franklin', 'county', '', 'missouri', '', 'in', 'the', 'united', 'states', '', '']\n",
      "['in', '', '', '', '', '', '', 'the', 'socialist', 'party', 'of', 'america', 'won', 'its', 'first', 'victory', 'west', 'of', 'the', 'mississippi', 'when', 'anaconda', 'voters', 'elected', 'a', 'socialist', 'mayor', '', 'treasurer', '', 'police', 'judge', '', 'and', 'three', 'councilmen', '', '']\n",
      "['anaconda', 'was', 'founded', 'by', 'marcus', 'daly', '', 'one', 'of', 'the', 'copper', 'kings', '', 'who', 'financed', 'the', 'construction', 'of', 'a', 'smelter', 'on', 'nearby', 'warm', 'springs', 'creek', 'to', 'process', 'copper', 'ore', 'from', 'the', 'butte', 'mines', '', '']\n",
      "['anaconda', '', 'county', 'seat', 'of', 'anaconda', 'deer', 'lodge', 'county', '', 'which', 'has', 'a', 'consolidated', 'city', 'county', 'government', '', 'is', 'located', 'in', 'southwestern', 'montana', 'of', 'the', 'united', 'states', '', '', '']\n",
      "['the', 'anaconda', 'plan', 'is', 'the', 'name', 'applied', 'to', 'an', 'outline', 'strategy', 'for', 'suppressing', 'the', 'confederacy', 'at', 'the', 'beginning', 'of', 'the', 'american', 'civil', 'war', '', '']\n",
      "['because', 'the', 'blockade', 'would', 'be', 'rather', 'passive', '', 'it', 'was', 'widely', 'derided', 'by', 'the', 'vociferous', 'faction', 'who', 'wanted', 'a', 'more', 'vigorous', 'prosecution', 'of', 'the', 'war', '', 'and', 'who', 'likened', 'it', 'to', 'the', 'coils', 'of', 'an', 'anaconda', 'suffocating', 'its', 'victim', '', '']\n",
      "['consequently', '', 'the', 'anaconda', 'has', 'been', 'somewhat', 'rehabilitated', '', 'and', 'general', 'histories', 'of', 'the', 'civil', 'war', 'often', 'credit', 'it', 'with', 'guiding', 'president', 'abraham', 'lincoln', 's', 'strategy', 'throughout', '', '']\n",
      "['anaconda', 'is', 'a', '', '', '', '', '', 'adventure', 'horror', 'film', '', 'directed', 'by', 'luis', 'llosa', '', 'starring', 'jennifer', 'lopez', '', 'ice', 'cube', '', 'jon', 'voight', '', 'and', 'eric', 'stoltz', '', '']\n",
      "['the', 'film', 'was', 'followed', 'by', 'three', 'sequels', '', 'anacondas', '', 'the', 'hunt', 'for', 'the', 'blood', 'orchid', 'in', '', '', '', '', '', '', 'which', 'was', 'released', 'to', 'theaters', 'and', 'two', 'made', 'for', 'television', 'films', '', 'anaconda', '', '', '', 'offspring', '', '', '', '', '', '', '', 'and', 'anacondas', '', 'trail', 'of', 'blood', '', '', '', '', '', '', '', 'and', 'the', 'crossover', 'film', 'with', 'the', 'lake', 'placid', 'franchise', '', 'lake', 'placid', 'vs', '', 'anaconda', '', '', '', '', '', '', '', '', '']\n",
      "['anaconda', '', 'blanche', 'sitznski', '', 'is', 'a', 'supervillain', 'appearing', 'in', 'american', 'comic', 'books', 'published', 'by', 'marvel', 'comics', '', '', '']\n",
      "['sitznski', 'was', 'given', 'her', 'super', 'human', 'abilities', 'by', 'the', 'roxxon', 'corporation', '', 'dubbing', 'her', 'anaconda', 'due', 'to', 'her', 'powerful', '', 'adamantium', 'enhanced', 'arms', 'she', 'uses', 'to', 'constrain', 'or', 'crush', 'her', 'opponents', 'with', '', '']\n",
      "['anaconda', 'was', 'created', 'by', 'mark', 'gruenwald', 'and', 'ralph', 'macchio', 'and', 'first', 'appeared', 'in', 'marvel', 'two', 'in', 'one', '', '', '', '', 'in', 'june', '', '', '', '', '', '', '']\n",
      "['anaconda', 'freed', 'herself', 'and', 'her', 'teammates', 'from', 'their', 'underwater', 'captivity', 'using', 'her', 'brute', 'strength', '', 'and', 'they', 'were', 'sent', 'on', 'another', 'mission', '', '', 'this', 'time', '', 'to', 'search', 'for', 'a', 'powerful', 'weapon', 'known', 'as', 'the', 'micro', 'scanner', '', '']\n",
      "['anaconda', 'has', 'the', 'superhuman', 'ability', 'to', 'elongate', 'her', 'limbs', 'and', 'constrict', 'her', 'opponents', '', '']\n",
      "['anaconda', 'has', 'incredible', 'recuperative', 'abilities', 'and', 'she', 'is', 'able', 'to', 'heal', 'non', 'fatal', 'wounds', 'several', 'times', 'faster', 'than', 'a', 'normal', 'human', 'being', '', '']\n",
      "['built', 'by', 'arrow', 'dynamics', 'and', 'designed', 'by', 'ron', 'toomer', '', 'anaconda', 'opened', 'in', '', '', '', '', '', 'as', 'the', 'first', 'looping', 'roller', 'coaster', 'to', 'feature', 'an', 'underwater', 'tunnel', 'and', 'the', 'first', 'at', 'kings', 'dominion', 'with', 'more', 'than', 'one', 'inversion', '', '']\n",
      "['from', 'there', 'riders', 'plunge', '', '', '', '', 'feet', '', '', '', '', 'm', '', 'twisting', 'to', 'the', 'right', 'passing', 'an', 'on', 'ride', 'camera', 'and', 'entering', 'an', 'underwater', 'tunnel', '', '']\n",
      "['the', 'train', 'exits', 'the', 'tunnel', 'entering', 'a', '', '', '', '', 'degree', 'vertical', 'loop', 'followed', 'by', 'a', 'sidewinder', 'inversion', '', 'a', 'half', 'loop', 'that', 'uses', 'a', 'corkscrew', 'at', 'the', 'top', 'to', 'change', 'direction', '', '', '']\n",
      "['the', 'second', 'part', 'of', 'the', 'ride', 'begins', 'with', 'a', 'butterfly', 'figure', 'eight', 'element', 'consisting', 'of', 'sharp', 'twists', 'and', 'turns', '', '']\n",
      "['', 'anaconda', '', 'is', 'a', 'song', 'by', 'trinidadian', 'born', 'american', 'rapper', 'nicki', 'minaj', '', 'from', 'her', 'third', 'studio', 'album', '', 'the', 'pinkprint', '', '', '', '', '', '', '', '', '']\n",
      "['upon', 'release', '', 'anaconda', '', 'was', 'met', 'with', 'mixed', 'to', 'positive', 'reviews', 'from', 'music', 'critics', '', 'with', 'some', 'of', 'them', 'praising', 'the', 'song', 's', 'production', 'and', 'minaj', 's', 'return', 'to', 'her', 'hip', 'hop', 'roots', '', '']\n",
      "['to', 'further', 'promote', 'the', 'song', '', 'minaj', 'performed', 'it', 'live', 'at', 'the', '', '', '', '', '', 'mtv', 'video', 'music', 'awards', 'and', 'also', 'performed', 'it', 'at', 'fashion', 'rocks', 'and', 'the', 'iheartradio', 'music', 'festival', '', '', '']\n",
      "['carolyn', 'menyes', 'from', 'music', 'times', 'gave', 'the', 'song', 'a', 'positive', 'review', '', 'calling', 'it', 'a', 'bit', '', 'raunchy', '', 'though', 'this', 'was', '', 'expected', '', 'and', 'saying', '', 'anaconda', '', 'continues', 'minaj', 's', 'promise', 'to', 'move', 'away', 'from', 'her', 'poppier', 'singles', 'such', 'as', '', 'super', 'bass', '', 'and', '', 'starships', '', '', 'and', 'go', 'back', 'to', 'her', 'hardcore', 'rap', 'roots', '', '']\n",
      "['from', '', '', '', '', '', 'through', '', '', '', '', '', '', 'the', 'anaconda', 'mine', 'was', 'the', 'largest', 'copper', 'producing', 'mine', 'in', 'the', 'world', '', '']\n",
      "['in', 'mid', 'october', '', '', '', '', '', 'the', 'rothschilds', '', 'french', 'and', 'british', '', 'bought', 'one', 'quarter', 'of', 'the', 'stock', 'in', 'anaconda', 'for', '', '', '', '', '', 'million', '', '']\n",
      "['by', '', '', '', '', '', 'amalgamated', 'copper', 'acquired', 'majority', 'stock', 'in', 'the', 'anaconda', 'copper', 'company', '', 'and', 'the', 'rothschilds', 'appear', 'to', 'have', 'had', 'no', 'further', 'role', 'in', 'the', 'company', '', '', '']\n",
      "['in', '', '', '', '', '', 'ryan', 'and', 'percy', 'rockefeller', 'aggressively', 'speculated', 'on', 'anaconda', 'shares', '', 'causing', 'them', 'to', 'go', 'up', 'at', 'first', '', 'at', 'which', 'point', 'they', 'sold', '', 'and', 'then', 'to', 'go', 'down', '', 'at', 'which', 'point', 'they', 'bought', 'them', 'back', '', '', '']\n",
      "['anaconda', 'ranked', '', '', 'th', 'among', 'united', 'states', 'corporations', 'in', 'the', 'value', 'of', 'world', 'war', 'ii', 'military', 'production', 'contracts', '', '']\n",
      "['the', 'workers', 'who', 'are', 'under', 'the', '', '', '', 'copper', 'collar', '', '', '', 'are', 'referred', 'to', 'as', '', '', '', 'snakes', '', '', '', 'and', 'the', 'anaconda', 'company', 'is', 'referred', 'to', 'as', 'an', '', '', '', 'ogre', '', '', '', '', '']\n",
      "['introduced', 'in', '', '', '', '', '', '', 'the', 'colt', 'anaconda', 'is', 'a', 'large', 'frame', 'double', 'action', 'revolver', 'featuring', 'a', 'full', 'length', 'under', 'barrel', 'ejection', 'rod', 'lug', 'and', 'six', 'round', 'cylinder', '', 'designed', 'and', 'produced', 'by', 'the', 'colt', 's', 'manufacturing', 'company', '', '']\n",
      "['there', 'were', '', '', '', '', '', 'kodiaks', 'made', 'as', 'a', 'special', 'run', 'of', 'anacondas', '', 'breaking', 'away', 'from', 'their', 'long', 'history', 'of', 'naming', 'revolvers', 'after', 'snakes', '', '']\n",
      "['there', 'was', 'an', 'uncataloged', '', '', '', 'barrel', 'version', 'of', 'the', 'anaconda', '', 'with', 'reportedly', 'less', 'than', '', '', '', '', 'made', '', '']\n",
      "['the', 'trigger', 'actions', 'on', 'these', 'guns', 'are', 'rated', 'as', 'very', 'high', 'quality', '', 'and', 'the', 'heavy', 'duty', 'solid', 'construction', 'and', 'weight', 'tends', 'to', 'absorb', 'recoil', '', 'making', 'the', 'anaconda', 'relatively', 'easy', 'to', 'shoot', 'with', 'heavy', 'loads', '', '']\n",
      "['anaconda', 'iii', 'at', '', '', '', '', 'ft', '', '', '', '', 'm', '', 'is', 'one', 'of', 'the', 'largest', 'yachts', 'sailing', 'the', 'whitsunday', 'islands', 'in', 'queensland', '', 'australia', '', '']\n",
      "['anaconda', 'iii', 'has', 'been', 'doing', '', '', 'day', '', '', 'night', 'sail', 'and', 'dive', 'trips', 'for', 'over', '', '', '', 'years', '', '']\n",
      "['with', '', '', 'departures', 'per', 'week', 'the', 'anaconda', 'iii', 'will', 'typically', 'spend', 'two', 'days', 'in', 'the', 'whitsunday', 'islands', 'visiting', 'locations', 'such', 'as', 'whitehaven', 'beach', '', 'luncheon', 'bay', 'and', 'blue', 'pearl', 'bay', '', '']\n",
      "['the', 'anaconda', 'range', '', 'informally', 'known', 'as', 'the', '', 'pintlars', '', '', 'is', 'a', 'group', 'of', 'high', 'mountains', 'located', 'in', 'southwestern', 'montana', '', 'in', 'the', 'northwestern', 'united', 'states', '', '']\n",
      "['anaconda', '', 'a', 'hidden', 'variant', 'of', 'snake', '', 'video', 'game', '', 'in', 'the', 'timesplitters', 'series', '', '']\n",
      "['anaconda', 'offers', 'a', 'text', 'mode', 'and', 'gui', 'mode', '', 'so', 'users', 'can', 'install', 'on', 'a', 'wide', 'range', 'of', 'systems', '', '']\n",
      "['anaconda', 'also', 'has', 'a', 'custom', 'text', 'frontend', 'with', 'support', 'for', 'computers', 'with', 'line', 'printer', 'like', 'terminals', '', 'such', 'as', 'the', 'ibm', 'esa', '', '', '', '', 'mainframes', '']\n"
     ]
    }
   ],
   "source": [
    "for line in file:\n",
    "    print(re.split('[^a-z]',line.lower()))"
   ]
  },
  {
   "cell_type": "markdown",
   "metadata": {},
   "source": [
    "<hr>"
   ]
  },
  {
   "cell_type": "markdown",
   "metadata": {},
   "source": [
    "**7** Создайте пустой список L"
   ]
  },
  {
   "cell_type": "code",
   "execution_count": 23,
   "metadata": {},
   "outputs": [],
   "source": [
    "L = []"
   ]
  },
  {
   "cell_type": "markdown",
   "metadata": {},
   "source": [
    "*Подсказка*\n",
    "\n",
    "https://pythonworld.ru/tipy-dannyx-v-python/spiski-list-funkcii-i-metody-spiskov.html\n",
    "    \n",
    "<hr>"
   ]
  },
  {
   "cell_type": "markdown",
   "metadata": {},
   "source": [
    "**8** Добавьте в список L списки L1 и L2. Выведите результат на печать. Убедитесь, что вы получили список списков, а не список отдельных элементов."
   ]
  },
  {
   "cell_type": "code",
   "execution_count": 24,
   "metadata": {},
   "outputs": [
    {
     "name": "stdout",
     "output_type": "stream",
     "text": [
      "[[1, 2, 3, 4, 5, 6], ['one', 'two']]\n"
     ]
    }
   ],
   "source": [
    "L1 = [1, 2, 3, 4, 5, 6]\n",
    "L2 = ['one', 'two']\n",
    "L.append(L1)\n",
    "L.append(L2)\n",
    "print(L)"
   ]
  },
  {
   "cell_type": "markdown",
   "metadata": {},
   "source": [
    "*Подсказка.*\n",
    "\n",
    "append - https://pythonworld.ru/tipy-dannyx-v-python/spiski-list-funkcii-i-metody-spiskov.html\n",
    "\n",
    "<hr>"
   ]
  },
  {
   "cell_type": "markdown",
   "metadata": {},
   "source": [
    "**9** Объединим всё пройденное:\n",
    "\n",
    "1. Импортируйте модуль re, *задание 5*\n",
    "2. Создайте пустой список L, *задание 7*\n",
    "3. Откройте файл anaconda.txt на чтение (используйте переменную f для сохранения единообразия), *задание 1*\n",
    "4. Пройдите по каждой строке открытого файла в цикле, *задание 2*\n",
    "5. Приведите все символы в строке к нижнему регистру с помощью lower(), *задание 3*\n",
    "6. Разбейте строку на слова с помощью re.split('[^a-z]', string), *задание 5*\n",
    "7. Добавьте получившийся список слов в список L, *задание 8*\n",
    "8. После завершения цикла выведем на печать список L, чтобы убедиться, что это список списков."
   ]
  },
  {
   "cell_type": "code",
   "execution_count": 25,
   "metadata": {},
   "outputs": [
    {
     "name": "stdout",
     "output_type": "stream",
     "text": [
      "[['any', 'large', 'snake', 'that', '', 'constricts', '', 'its', 'prey', '', 'see', 'constriction', '', '', 'if', 'applied', 'loosely', '', 'was', 'called', 'anaconda', '', 'though', 'this', 'usage', 'is', 'now', 'archaic', '', ''], ['an', 'anaconda', 'is', 'a', 'large', 'snake', 'found', 'in', 'tropical', 'south', 'america', '', ''], ['although', 'the', 'name', 'applies', 'to', 'a', 'group', 'of', 'snakes', '', 'it', 'is', 'often', 'used', 'to', 'refer', 'only', 'to', 'one', 'species', 'in', 'particular', '', 'the', 'common', 'or', 'green', 'anaconda', '', 'eunectes', 'murinus', '', 'which', 'is', 'the', 'largest', 'snake', 'in', 'the', 'world', 'by', 'weight', '', 'and', 'the', 'second', 'longest', '', ''], ['the', 'giant', 'anaconda', 'is', 'a', 'mythical', 'snake', 'of', 'enormous', 'proportions', 'said', 'to', 'be', 'found', 'in', 'south', 'america', '', ''], ['anaconda', 'is', 'an', 'unincorporated', 'community', 'in', 'franklin', 'county', '', 'missouri', '', 'in', 'the', 'united', 'states', '', ''], ['in', '', '', '', '', '', '', 'the', 'socialist', 'party', 'of', 'america', 'won', 'its', 'first', 'victory', 'west', 'of', 'the', 'mississippi', 'when', 'anaconda', 'voters', 'elected', 'a', 'socialist', 'mayor', '', 'treasurer', '', 'police', 'judge', '', 'and', 'three', 'councilmen', '', ''], ['anaconda', 'was', 'founded', 'by', 'marcus', 'daly', '', 'one', 'of', 'the', 'copper', 'kings', '', 'who', 'financed', 'the', 'construction', 'of', 'a', 'smelter', 'on', 'nearby', 'warm', 'springs', 'creek', 'to', 'process', 'copper', 'ore', 'from', 'the', 'butte', 'mines', '', ''], ['anaconda', '', 'county', 'seat', 'of', 'anaconda', 'deer', 'lodge', 'county', '', 'which', 'has', 'a', 'consolidated', 'city', 'county', 'government', '', 'is', 'located', 'in', 'southwestern', 'montana', 'of', 'the', 'united', 'states', '', '', ''], ['the', 'anaconda', 'plan', 'is', 'the', 'name', 'applied', 'to', 'an', 'outline', 'strategy', 'for', 'suppressing', 'the', 'confederacy', 'at', 'the', 'beginning', 'of', 'the', 'american', 'civil', 'war', '', ''], ['because', 'the', 'blockade', 'would', 'be', 'rather', 'passive', '', 'it', 'was', 'widely', 'derided', 'by', 'the', 'vociferous', 'faction', 'who', 'wanted', 'a', 'more', 'vigorous', 'prosecution', 'of', 'the', 'war', '', 'and', 'who', 'likened', 'it', 'to', 'the', 'coils', 'of', 'an', 'anaconda', 'suffocating', 'its', 'victim', '', ''], ['consequently', '', 'the', 'anaconda', 'has', 'been', 'somewhat', 'rehabilitated', '', 'and', 'general', 'histories', 'of', 'the', 'civil', 'war', 'often', 'credit', 'it', 'with', 'guiding', 'president', 'abraham', 'lincoln', 's', 'strategy', 'throughout', '', ''], ['anaconda', 'is', 'a', '', '', '', '', '', 'adventure', 'horror', 'film', '', 'directed', 'by', 'luis', 'llosa', '', 'starring', 'jennifer', 'lopez', '', 'ice', 'cube', '', 'jon', 'voight', '', 'and', 'eric', 'stoltz', '', ''], ['the', 'film', 'was', 'followed', 'by', 'three', 'sequels', '', 'anacondas', '', 'the', 'hunt', 'for', 'the', 'blood', 'orchid', 'in', '', '', '', '', '', '', 'which', 'was', 'released', 'to', 'theaters', 'and', 'two', 'made', 'for', 'television', 'films', '', 'anaconda', '', '', '', 'offspring', '', '', '', '', '', '', '', 'and', 'anacondas', '', 'trail', 'of', 'blood', '', '', '', '', '', '', '', 'and', 'the', 'crossover', 'film', 'with', 'the', 'lake', 'placid', 'franchise', '', 'lake', 'placid', 'vs', '', 'anaconda', '', '', '', '', '', '', '', '', ''], ['anaconda', '', 'blanche', 'sitznski', '', 'is', 'a', 'supervillain', 'appearing', 'in', 'american', 'comic', 'books', 'published', 'by', 'marvel', 'comics', '', '', ''], ['sitznski', 'was', 'given', 'her', 'super', 'human', 'abilities', 'by', 'the', 'roxxon', 'corporation', '', 'dubbing', 'her', 'anaconda', 'due', 'to', 'her', 'powerful', '', 'adamantium', 'enhanced', 'arms', 'she', 'uses', 'to', 'constrain', 'or', 'crush', 'her', 'opponents', 'with', '', ''], ['anaconda', 'was', 'created', 'by', 'mark', 'gruenwald', 'and', 'ralph', 'macchio', 'and', 'first', 'appeared', 'in', 'marvel', 'two', 'in', 'one', '', '', '', '', 'in', 'june', '', '', '', '', '', '', ''], ['anaconda', 'freed', 'herself', 'and', 'her', 'teammates', 'from', 'their', 'underwater', 'captivity', 'using', 'her', 'brute', 'strength', '', 'and', 'they', 'were', 'sent', 'on', 'another', 'mission', '', '', 'this', 'time', '', 'to', 'search', 'for', 'a', 'powerful', 'weapon', 'known', 'as', 'the', 'micro', 'scanner', '', ''], ['anaconda', 'has', 'the', 'superhuman', 'ability', 'to', 'elongate', 'her', 'limbs', 'and', 'constrict', 'her', 'opponents', '', ''], ['anaconda', 'has', 'incredible', 'recuperative', 'abilities', 'and', 'she', 'is', 'able', 'to', 'heal', 'non', 'fatal', 'wounds', 'several', 'times', 'faster', 'than', 'a', 'normal', 'human', 'being', '', ''], ['built', 'by', 'arrow', 'dynamics', 'and', 'designed', 'by', 'ron', 'toomer', '', 'anaconda', 'opened', 'in', '', '', '', '', '', 'as', 'the', 'first', 'looping', 'roller', 'coaster', 'to', 'feature', 'an', 'underwater', 'tunnel', 'and', 'the', 'first', 'at', 'kings', 'dominion', 'with', 'more', 'than', 'one', 'inversion', '', ''], ['from', 'there', 'riders', 'plunge', '', '', '', '', 'feet', '', '', '', '', 'm', '', 'twisting', 'to', 'the', 'right', 'passing', 'an', 'on', 'ride', 'camera', 'and', 'entering', 'an', 'underwater', 'tunnel', '', ''], ['the', 'train', 'exits', 'the', 'tunnel', 'entering', 'a', '', '', '', '', 'degree', 'vertical', 'loop', 'followed', 'by', 'a', 'sidewinder', 'inversion', '', 'a', 'half', 'loop', 'that', 'uses', 'a', 'corkscrew', 'at', 'the', 'top', 'to', 'change', 'direction', '', '', ''], ['the', 'second', 'part', 'of', 'the', 'ride', 'begins', 'with', 'a', 'butterfly', 'figure', 'eight', 'element', 'consisting', 'of', 'sharp', 'twists', 'and', 'turns', '', ''], ['', 'anaconda', '', 'is', 'a', 'song', 'by', 'trinidadian', 'born', 'american', 'rapper', 'nicki', 'minaj', '', 'from', 'her', 'third', 'studio', 'album', '', 'the', 'pinkprint', '', '', '', '', '', '', '', '', ''], ['upon', 'release', '', 'anaconda', '', 'was', 'met', 'with', 'mixed', 'to', 'positive', 'reviews', 'from', 'music', 'critics', '', 'with', 'some', 'of', 'them', 'praising', 'the', 'song', 's', 'production', 'and', 'minaj', 's', 'return', 'to', 'her', 'hip', 'hop', 'roots', '', ''], ['to', 'further', 'promote', 'the', 'song', '', 'minaj', 'performed', 'it', 'live', 'at', 'the', '', '', '', '', '', 'mtv', 'video', 'music', 'awards', 'and', 'also', 'performed', 'it', 'at', 'fashion', 'rocks', 'and', 'the', 'iheartradio', 'music', 'festival', '', '', ''], ['carolyn', 'menyes', 'from', 'music', 'times', 'gave', 'the', 'song', 'a', 'positive', 'review', '', 'calling', 'it', 'a', 'bit', '', 'raunchy', '', 'though', 'this', 'was', '', 'expected', '', 'and', 'saying', '', 'anaconda', '', 'continues', 'minaj', 's', 'promise', 'to', 'move', 'away', 'from', 'her', 'poppier', 'singles', 'such', 'as', '', 'super', 'bass', '', 'and', '', 'starships', '', '', 'and', 'go', 'back', 'to', 'her', 'hardcore', 'rap', 'roots', '', ''], ['from', '', '', '', '', '', 'through', '', '', '', '', '', '', 'the', 'anaconda', 'mine', 'was', 'the', 'largest', 'copper', 'producing', 'mine', 'in', 'the', 'world', '', ''], ['in', 'mid', 'october', '', '', '', '', '', 'the', 'rothschilds', '', 'french', 'and', 'british', '', 'bought', 'one', 'quarter', 'of', 'the', 'stock', 'in', 'anaconda', 'for', '', '', '', '', '', 'million', '', ''], ['by', '', '', '', '', '', 'amalgamated', 'copper', 'acquired', 'majority', 'stock', 'in', 'the', 'anaconda', 'copper', 'company', '', 'and', 'the', 'rothschilds', 'appear', 'to', 'have', 'had', 'no', 'further', 'role', 'in', 'the', 'company', '', '', ''], ['in', '', '', '', '', '', 'ryan', 'and', 'percy', 'rockefeller', 'aggressively', 'speculated', 'on', 'anaconda', 'shares', '', 'causing', 'them', 'to', 'go', 'up', 'at', 'first', '', 'at', 'which', 'point', 'they', 'sold', '', 'and', 'then', 'to', 'go', 'down', '', 'at', 'which', 'point', 'they', 'bought', 'them', 'back', '', '', ''], ['anaconda', 'ranked', '', '', 'th', 'among', 'united', 'states', 'corporations', 'in', 'the', 'value', 'of', 'world', 'war', 'ii', 'military', 'production', 'contracts', '', ''], ['the', 'workers', 'who', 'are', 'under', 'the', '', '', '', 'copper', 'collar', '', '', '', 'are', 'referred', 'to', 'as', '', '', '', 'snakes', '', '', '', 'and', 'the', 'anaconda', 'company', 'is', 'referred', 'to', 'as', 'an', '', '', '', 'ogre', '', '', '', '', ''], ['introduced', 'in', '', '', '', '', '', '', 'the', 'colt', 'anaconda', 'is', 'a', 'large', 'frame', 'double', 'action', 'revolver', 'featuring', 'a', 'full', 'length', 'under', 'barrel', 'ejection', 'rod', 'lug', 'and', 'six', 'round', 'cylinder', '', 'designed', 'and', 'produced', 'by', 'the', 'colt', 's', 'manufacturing', 'company', '', ''], ['there', 'were', '', '', '', '', '', 'kodiaks', 'made', 'as', 'a', 'special', 'run', 'of', 'anacondas', '', 'breaking', 'away', 'from', 'their', 'long', 'history', 'of', 'naming', 'revolvers', 'after', 'snakes', '', ''], ['there', 'was', 'an', 'uncataloged', '', '', '', 'barrel', 'version', 'of', 'the', 'anaconda', '', 'with', 'reportedly', 'less', 'than', '', '', '', '', 'made', '', ''], ['the', 'trigger', 'actions', 'on', 'these', 'guns', 'are', 'rated', 'as', 'very', 'high', 'quality', '', 'and', 'the', 'heavy', 'duty', 'solid', 'construction', 'and', 'weight', 'tends', 'to', 'absorb', 'recoil', '', 'making', 'the', 'anaconda', 'relatively', 'easy', 'to', 'shoot', 'with', 'heavy', 'loads', '', ''], ['anaconda', 'iii', 'at', '', '', '', '', 'ft', '', '', '', '', 'm', '', 'is', 'one', 'of', 'the', 'largest', 'yachts', 'sailing', 'the', 'whitsunday', 'islands', 'in', 'queensland', '', 'australia', '', ''], ['anaconda', 'iii', 'has', 'been', 'doing', '', '', 'day', '', '', 'night', 'sail', 'and', 'dive', 'trips', 'for', 'over', '', '', '', 'years', '', ''], ['with', '', '', 'departures', 'per', 'week', 'the', 'anaconda', 'iii', 'will', 'typically', 'spend', 'two', 'days', 'in', 'the', 'whitsunday', 'islands', 'visiting', 'locations', 'such', 'as', 'whitehaven', 'beach', '', 'luncheon', 'bay', 'and', 'blue', 'pearl', 'bay', '', ''], ['the', 'anaconda', 'range', '', 'informally', 'known', 'as', 'the', '', 'pintlars', '', '', 'is', 'a', 'group', 'of', 'high', 'mountains', 'located', 'in', 'southwestern', 'montana', '', 'in', 'the', 'northwestern', 'united', 'states', '', ''], ['anaconda', '', 'a', 'hidden', 'variant', 'of', 'snake', '', 'video', 'game', '', 'in', 'the', 'timesplitters', 'series', '', ''], ['anaconda', 'offers', 'a', 'text', 'mode', 'and', 'gui', 'mode', '', 'so', 'users', 'can', 'install', 'on', 'a', 'wide', 'range', 'of', 'systems', '', ''], ['anaconda', 'also', 'has', 'a', 'custom', 'text', 'frontend', 'with', 'support', 'for', 'computers', 'with', 'line', 'printer', 'like', 'terminals', '', 'such', 'as', 'the', 'ibm', 'esa', '', '', '', '', 'mainframes', '']]\n"
     ]
    }
   ],
   "source": [
    "import re\n",
    "L = []\n",
    "f = open('anaconda.txt', 'r')\n",
    "for line in f:\n",
    "    L.append(re.split('[^a-z]',line.lower()))\n",
    "print(L)"
   ]
  },
  {
   "cell_type": "markdown",
   "metadata": {},
   "source": [
    "<hr>"
   ]
  },
  {
   "cell_type": "markdown",
   "metadata": {},
   "source": [
    "**10** Дополнительное задание.\n",
    "\n",
    "1. Выведите на печать 3 строку списка L\n",
    "2. Выведите на печать 2 слово 3 строки списка L\n",
    "3. Выведите на печать каждое 2 слово каждой строки списка L\n",
    "\n",
    "Убедитесь, что результат соответсвует оригинальнмоу файлу."
   ]
  },
  {
   "cell_type": "code",
   "execution_count": 26,
   "metadata": {},
   "outputs": [
    {
     "name": "stdout",
     "output_type": "stream",
     "text": [
      "['although', 'the', 'name', 'applies', 'to', 'a', 'group', 'of', 'snakes', '', 'it', 'is', 'often', 'used', 'to', 'refer', 'only', 'to', 'one', 'species', 'in', 'particular', '', 'the', 'common', 'or', 'green', 'anaconda', '', 'eunectes', 'murinus', '', 'which', 'is', 'the', 'largest', 'snake', 'in', 'the', 'world', 'by', 'weight', '', 'and', 'the', 'second', 'longest', '', '']\n"
     ]
    }
   ],
   "source": [
    "print(L[2])"
   ]
  },
  {
   "cell_type": "code",
   "execution_count": 28,
   "metadata": {},
   "outputs": [
    {
     "name": "stdout",
     "output_type": "stream",
     "text": [
      "the\n"
     ]
    }
   ],
   "source": [
    "a = L[2]\n",
    "print a[1]"
   ]
  },
  {
   "cell_type": "code",
   "execution_count": 30,
   "metadata": {},
   "outputs": [
    {
     "name": "stdout",
     "output_type": "stream",
     "text": [
      "['any', 'large', 'snake', 'that', '', 'constricts', '', 'its', 'prey', '', 'see', 'constriction', '', '', 'if', 'applied', 'loosely', '', 'was', 'called', 'anaconda', '', 'though', 'this', 'usage', 'is', 'now', 'archaic', '', '']\n",
      "['although', 'the', 'name', 'applies', 'to', 'a', 'group', 'of', 'snakes', '', 'it', 'is', 'often', 'used', 'to', 'refer', 'only', 'to', 'one', 'species', 'in', 'particular', '', 'the', 'common', 'or', 'green', 'anaconda', '', 'eunectes', 'murinus', '', 'which', 'is', 'the', 'largest', 'snake', 'in', 'the', 'world', 'by', 'weight', '', 'and', 'the', 'second', 'longest', '', '']\n",
      "['anaconda', 'is', 'an', 'unincorporated', 'community', 'in', 'franklin', 'county', '', 'missouri', '', 'in', 'the', 'united', 'states', '', '']\n",
      "['anaconda', 'was', 'founded', 'by', 'marcus', 'daly', '', 'one', 'of', 'the', 'copper', 'kings', '', 'who', 'financed', 'the', 'construction', 'of', 'a', 'smelter', 'on', 'nearby', 'warm', 'springs', 'creek', 'to', 'process', 'copper', 'ore', 'from', 'the', 'butte', 'mines', '', '']\n",
      "['the', 'anaconda', 'plan', 'is', 'the', 'name', 'applied', 'to', 'an', 'outline', 'strategy', 'for', 'suppressing', 'the', 'confederacy', 'at', 'the', 'beginning', 'of', 'the', 'american', 'civil', 'war', '', '']\n",
      "['consequently', '', 'the', 'anaconda', 'has', 'been', 'somewhat', 'rehabilitated', '', 'and', 'general', 'histories', 'of', 'the', 'civil', 'war', 'often', 'credit', 'it', 'with', 'guiding', 'president', 'abraham', 'lincoln', 's', 'strategy', 'throughout', '', '']\n",
      "['the', 'film', 'was', 'followed', 'by', 'three', 'sequels', '', 'anacondas', '', 'the', 'hunt', 'for', 'the', 'blood', 'orchid', 'in', '', '', '', '', '', '', 'which', 'was', 'released', 'to', 'theaters', 'and', 'two', 'made', 'for', 'television', 'films', '', 'anaconda', '', '', '', 'offspring', '', '', '', '', '', '', '', 'and', 'anacondas', '', 'trail', 'of', 'blood', '', '', '', '', '', '', '', 'and', 'the', 'crossover', 'film', 'with', 'the', 'lake', 'placid', 'franchise', '', 'lake', 'placid', 'vs', '', 'anaconda', '', '', '', '', '', '', '', '', '']\n",
      "['sitznski', 'was', 'given', 'her', 'super', 'human', 'abilities', 'by', 'the', 'roxxon', 'corporation', '', 'dubbing', 'her', 'anaconda', 'due', 'to', 'her', 'powerful', '', 'adamantium', 'enhanced', 'arms', 'she', 'uses', 'to', 'constrain', 'or', 'crush', 'her', 'opponents', 'with', '', '']\n",
      "['anaconda', 'freed', 'herself', 'and', 'her', 'teammates', 'from', 'their', 'underwater', 'captivity', 'using', 'her', 'brute', 'strength', '', 'and', 'they', 'were', 'sent', 'on', 'another', 'mission', '', '', 'this', 'time', '', 'to', 'search', 'for', 'a', 'powerful', 'weapon', 'known', 'as', 'the', 'micro', 'scanner', '', '']\n",
      "['anaconda', 'has', 'incredible', 'recuperative', 'abilities', 'and', 'she', 'is', 'able', 'to', 'heal', 'non', 'fatal', 'wounds', 'several', 'times', 'faster', 'than', 'a', 'normal', 'human', 'being', '', '']\n",
      "['from', 'there', 'riders', 'plunge', '', '', '', '', 'feet', '', '', '', '', 'm', '', 'twisting', 'to', 'the', 'right', 'passing', 'an', 'on', 'ride', 'camera', 'and', 'entering', 'an', 'underwater', 'tunnel', '', '']\n",
      "['the', 'second', 'part', 'of', 'the', 'ride', 'begins', 'with', 'a', 'butterfly', 'figure', 'eight', 'element', 'consisting', 'of', 'sharp', 'twists', 'and', 'turns', '', '']\n",
      "['upon', 'release', '', 'anaconda', '', 'was', 'met', 'with', 'mixed', 'to', 'positive', 'reviews', 'from', 'music', 'critics', '', 'with', 'some', 'of', 'them', 'praising', 'the', 'song', 's', 'production', 'and', 'minaj', 's', 'return', 'to', 'her', 'hip', 'hop', 'roots', '', '']\n",
      "['carolyn', 'menyes', 'from', 'music', 'times', 'gave', 'the', 'song', 'a', 'positive', 'review', '', 'calling', 'it', 'a', 'bit', '', 'raunchy', '', 'though', 'this', 'was', '', 'expected', '', 'and', 'saying', '', 'anaconda', '', 'continues', 'minaj', 's', 'promise', 'to', 'move', 'away', 'from', 'her', 'poppier', 'singles', 'such', 'as', '', 'super', 'bass', '', 'and', '', 'starships', '', '', 'and', 'go', 'back', 'to', 'her', 'hardcore', 'rap', 'roots', '', '']\n",
      "['in', 'mid', 'october', '', '', '', '', '', 'the', 'rothschilds', '', 'french', 'and', 'british', '', 'bought', 'one', 'quarter', 'of', 'the', 'stock', 'in', 'anaconda', 'for', '', '', '', '', '', 'million', '', '']\n",
      "['in', '', '', '', '', '', 'ryan', 'and', 'percy', 'rockefeller', 'aggressively', 'speculated', 'on', 'anaconda', 'shares', '', 'causing', 'them', 'to', 'go', 'up', 'at', 'first', '', 'at', 'which', 'point', 'they', 'sold', '', 'and', 'then', 'to', 'go', 'down', '', 'at', 'which', 'point', 'they', 'bought', 'them', 'back', '', '', '']\n",
      "['the', 'workers', 'who', 'are', 'under', 'the', '', '', '', 'copper', 'collar', '', '', '', 'are', 'referred', 'to', 'as', '', '', '', 'snakes', '', '', '', 'and', 'the', 'anaconda', 'company', 'is', 'referred', 'to', 'as', 'an', '', '', '', 'ogre', '', '', '', '', '']\n",
      "['there', 'were', '', '', '', '', '', 'kodiaks', 'made', 'as', 'a', 'special', 'run', 'of', 'anacondas', '', 'breaking', 'away', 'from', 'their', 'long', 'history', 'of', 'naming', 'revolvers', 'after', 'snakes', '', '']\n",
      "['the', 'trigger', 'actions', 'on', 'these', 'guns', 'are', 'rated', 'as', 'very', 'high', 'quality', '', 'and', 'the', 'heavy', 'duty', 'solid', 'construction', 'and', 'weight', 'tends', 'to', 'absorb', 'recoil', '', 'making', 'the', 'anaconda', 'relatively', 'easy', 'to', 'shoot', 'with', 'heavy', 'loads', '', '']\n",
      "['anaconda', 'iii', 'has', 'been', 'doing', '', '', 'day', '', '', 'night', 'sail', 'and', 'dive', 'trips', 'for', 'over', '', '', '', 'years', '', '']\n",
      "['the', 'anaconda', 'range', '', 'informally', 'known', 'as', 'the', '', 'pintlars', '', '', 'is', 'a', 'group', 'of', 'high', 'mountains', 'located', 'in', 'southwestern', 'montana', '', 'in', 'the', 'northwestern', 'united', 'states', '', '']\n",
      "['anaconda', 'offers', 'a', 'text', 'mode', 'and', 'gui', 'mode', '', 'so', 'users', 'can', 'install', 'on', 'a', 'wide', 'range', 'of', 'systems', '', '']\n"
     ]
    }
   ],
   "source": [
    "for line in range(0, len(L), 2):\n",
    "    print(L[line])"
   ]
  },
  {
   "cell_type": "markdown",
   "metadata": {},
   "source": [
    "<hr>"
   ]
  },
  {
   "cell_type": "markdown",
   "metadata": {},
   "source": [
    "**11** Удалите все пустые строки из списка example_L"
   ]
  },
  {
   "cell_type": "code",
   "execution_count": 33,
   "metadata": {},
   "outputs": [
    {
     "name": "stdout",
     "output_type": "stream",
     "text": [
      "['although', 'the', 'name', 'applies', 'to', 'a', 'group', 'of', 'snakes', 'it', 'is', 'often', 'used', 'to', 'refer', 'only', 'to', 'one', 'species', 'in', 'particular', 'the', 'common', 'or', 'green', 'anaconda', 'eunectes', 'murinus', 'which', 'is', 'the', 'largest', 'snake', 'in', 'the', 'world', 'by', 'weight', 'and', 'the', 'second', 'longest']\n",
      "[]\n"
     ]
    }
   ],
   "source": [
    "example_L = ['although', 'the', 'name', 'applies', 'to', 'a', 'group', 'of', 'snakes', '', 'it', 'is', 'often', 'used', 'to', 'refer', 'only', 'to', 'one', 'species', 'in', 'particular', '', 'the', 'common', 'or', 'green', 'anaconda', '', 'eunectes', 'murinus', '', 'which', 'is', 'the', 'largest', 'snake', 'in', 'the', 'world', 'by', 'weight', '', 'and', 'the', 'second', 'longest', '', '', '']\n",
    "L3 = []\n",
    "print([elem for elem in example_L if elem])\n",
    "print(L3)"
   ]
  },
  {
   "cell_type": "markdown",
   "metadata": {},
   "source": [
    "*Подсказка. Простейший способ - пройти по списку в цикле:*\n",
    "- создайте пустой список\n",
    "- пройдите по имеющемуся списку в цикле\n",
    "- для каждого элемента списка проверьте равен ли он пустой строке\n",
    "- если не равен, то добавьте в созданный список\n",
    "- При необходимости замените исходный список копией ново заполненного\n",
    "\n",
    "<hr>"
   ]
  },
  {
   "cell_type": "markdown",
   "metadata": {},
   "source": [
    "**ПРИМЕЧАНИЕ** Есть элегантный способ очистить список от пустых элементов с помощью List Comprehensions.\n",
    "\n",
    "<a href=\"https://ru.stackoverflow.com/questions/422461/%D0%A3%D0%B4%D0%B0%D0%BB%D0%B5%D0%BD%D0%B8%D0%B5-%D0%BF%D1%83%D1%81%D1%82%D1%8B%D1%85-%D1%8D%D0%BB%D0%B5%D0%BC%D0%B5%D0%BD%D1%82%D0%BE%D0%B2-%D1%81%D0%BF%D0%B8%D1%81%D0%BA%D0%B0-python\">stackoverflow</a>\n",
    "\n",
    "clear_L = [x for x in example_L if x]\n",
    "\n",
    "Зачем это нужно? List Comprehensions - очень быстрая операция. Значительно более быстрая, чем обычный цикл for.\n",
    "\n",
    "Почему выше я прошу провести операцию в цикле:\n",
    "\n",
    "1. так мне кажется понятнее для начинающих\n",
    "2. помимо добавления\n",
    "\n",
    "<hr>"
   ]
  },
  {
   "cell_type": "markdown",
   "metadata": {},
   "source": [
    "**12** Повторите задание 9, избавшившись от всех пустых строк"
   ]
  },
  {
   "cell_type": "code",
   "execution_count": 36,
   "metadata": {},
   "outputs": [
    {
     "name": "stdout",
     "output_type": "stream",
     "text": [
      "['any', 'large', 'snake', 'that', 'constricts', 'its', 'prey', 'see', 'constriction', 'if', 'applied', 'loosely', 'was', 'called', 'anaconda', 'though', 'this', 'usage', 'is', 'now', 'archaic', 'an', 'anaconda', 'is', 'a', 'large', 'snake', 'found', 'in', 'tropical', 'south', 'america', 'although', 'the', 'name', 'applies', 'to', 'a', 'group', 'of', 'snakes', 'it', 'is', 'often', 'used', 'to', 'refer', 'only', 'to', 'one', 'species', 'in', 'particular', 'the', 'common', 'or', 'green', 'anaconda', 'eunectes', 'murinus', 'which', 'is', 'the', 'largest', 'snake', 'in', 'the', 'world', 'by', 'weight', 'and', 'the', 'second', 'longest', 'the', 'giant', 'anaconda', 'is', 'a', 'mythical', 'snake', 'of', 'enormous', 'proportions', 'said', 'to', 'be', 'found', 'in', 'south', 'america', 'anaconda', 'is', 'an', 'unincorporated', 'community', 'in', 'franklin', 'county', 'missouri', 'in', 'the', 'united', 'states', 'in', 'the', 'socialist', 'party', 'of', 'america', 'won', 'its', 'first', 'victory', 'west', 'of', 'the', 'mississippi', 'when', 'anaconda', 'voters', 'elected', 'a', 'socialist', 'mayor', 'treasurer', 'police', 'judge', 'and', 'three', 'councilmen', 'anaconda', 'was', 'founded', 'by', 'marcus', 'daly', 'one', 'of', 'the', 'copper', 'kings', 'who', 'financed', 'the', 'construction', 'of', 'a', 'smelter', 'on', 'nearby', 'warm', 'springs', 'creek', 'to', 'process', 'copper', 'ore', 'from', 'the', 'butte', 'mines', 'anaconda', 'county', 'seat', 'of', 'anaconda', 'deer', 'lodge', 'county', 'which', 'has', 'a', 'consolidated', 'city', 'county', 'government', 'is', 'located', 'in', 'southwestern', 'montana', 'of', 'the', 'united', 'states', 'the', 'anaconda', 'plan', 'is', 'the', 'name', 'applied', 'to', 'an', 'outline', 'strategy', 'for', 'suppressing', 'the', 'confederacy', 'at', 'the', 'beginning', 'of', 'the', 'american', 'civil', 'war', 'because', 'the', 'blockade', 'would', 'be', 'rather', 'passive', 'it', 'was', 'widely', 'derided', 'by', 'the', 'vociferous', 'faction', 'who', 'wanted', 'a', 'more', 'vigorous', 'prosecution', 'of', 'the', 'war', 'and', 'who', 'likened', 'it', 'to', 'the', 'coils', 'of', 'an', 'anaconda', 'suffocating', 'its', 'victim', 'consequently', 'the', 'anaconda', 'has', 'been', 'somewhat', 'rehabilitated', 'and', 'general', 'histories', 'of', 'the', 'civil', 'war', 'often', 'credit', 'it', 'with', 'guiding', 'president', 'abraham', 'lincoln', 's', 'strategy', 'throughout', 'anaconda', 'is', 'a', 'adventure', 'horror', 'film', 'directed', 'by', 'luis', 'llosa', 'starring', 'jennifer', 'lopez', 'ice', 'cube', 'jon', 'voight', 'and', 'eric', 'stoltz', 'the', 'film', 'was', 'followed', 'by', 'three', 'sequels', 'anacondas', 'the', 'hunt', 'for', 'the', 'blood', 'orchid', 'in', 'which', 'was', 'released', 'to', 'theaters', 'and', 'two', 'made', 'for', 'television', 'films', 'anaconda', 'offspring', 'and', 'anacondas', 'trail', 'of', 'blood', 'and', 'the', 'crossover', 'film', 'with', 'the', 'lake', 'placid', 'franchise', 'lake', 'placid', 'vs', 'anaconda', 'anaconda', 'blanche', 'sitznski', 'is', 'a', 'supervillain', 'appearing', 'in', 'american', 'comic', 'books', 'published', 'by', 'marvel', 'comics', 'sitznski', 'was', 'given', 'her', 'super', 'human', 'abilities', 'by', 'the', 'roxxon', 'corporation', 'dubbing', 'her', 'anaconda', 'due', 'to', 'her', 'powerful', 'adamantium', 'enhanced', 'arms', 'she', 'uses', 'to', 'constrain', 'or', 'crush', 'her', 'opponents', 'with', 'anaconda', 'was', 'created', 'by', 'mark', 'gruenwald', 'and', 'ralph', 'macchio', 'and', 'first', 'appeared', 'in', 'marvel', 'two', 'in', 'one', 'in', 'june', 'anaconda', 'freed', 'herself', 'and', 'her', 'teammates', 'from', 'their', 'underwater', 'captivity', 'using', 'her', 'brute', 'strength', 'and', 'they', 'were', 'sent', 'on', 'another', 'mission', 'this', 'time', 'to', 'search', 'for', 'a', 'powerful', 'weapon', 'known', 'as', 'the', 'micro', 'scanner', 'anaconda', 'has', 'the', 'superhuman', 'ability', 'to', 'elongate', 'her', 'limbs', 'and', 'constrict', 'her', 'opponents', 'anaconda', 'has', 'incredible', 'recuperative', 'abilities', 'and', 'she', 'is', 'able', 'to', 'heal', 'non', 'fatal', 'wounds', 'several', 'times', 'faster', 'than', 'a', 'normal', 'human', 'being', 'built', 'by', 'arrow', 'dynamics', 'and', 'designed', 'by', 'ron', 'toomer', 'anaconda', 'opened', 'in', 'as', 'the', 'first', 'looping', 'roller', 'coaster', 'to', 'feature', 'an', 'underwater', 'tunnel', 'and', 'the', 'first', 'at', 'kings', 'dominion', 'with', 'more', 'than', 'one', 'inversion', 'from', 'there', 'riders', 'plunge', 'feet', 'm', 'twisting', 'to', 'the', 'right', 'passing', 'an', 'on', 'ride', 'camera', 'and', 'entering', 'an', 'underwater', 'tunnel', 'the', 'train', 'exits', 'the', 'tunnel', 'entering', 'a', 'degree', 'vertical', 'loop', 'followed', 'by', 'a', 'sidewinder', 'inversion', 'a', 'half', 'loop', 'that', 'uses', 'a', 'corkscrew', 'at', 'the', 'top', 'to', 'change', 'direction', 'the', 'second', 'part', 'of', 'the', 'ride', 'begins', 'with', 'a', 'butterfly', 'figure', 'eight', 'element', 'consisting', 'of', 'sharp', 'twists', 'and', 'turns', 'anaconda', 'is', 'a', 'song', 'by', 'trinidadian', 'born', 'american', 'rapper', 'nicki', 'minaj', 'from', 'her', 'third', 'studio', 'album', 'the', 'pinkprint', 'upon', 'release', 'anaconda', 'was', 'met', 'with', 'mixed', 'to', 'positive', 'reviews', 'from', 'music', 'critics', 'with', 'some', 'of', 'them', 'praising', 'the', 'song', 's', 'production', 'and', 'minaj', 's', 'return', 'to', 'her', 'hip', 'hop', 'roots', 'to', 'further', 'promote', 'the', 'song', 'minaj', 'performed', 'it', 'live', 'at', 'the', 'mtv', 'video', 'music', 'awards', 'and', 'also', 'performed', 'it', 'at', 'fashion', 'rocks', 'and', 'the', 'iheartradio', 'music', 'festival', 'carolyn', 'menyes', 'from', 'music', 'times', 'gave', 'the', 'song', 'a', 'positive', 'review', 'calling', 'it', 'a', 'bit', 'raunchy', 'though', 'this', 'was', 'expected', 'and', 'saying', 'anaconda', 'continues', 'minaj', 's', 'promise', 'to', 'move', 'away', 'from', 'her', 'poppier', 'singles', 'such', 'as', 'super', 'bass', 'and', 'starships', 'and', 'go', 'back', 'to', 'her', 'hardcore', 'rap', 'roots', 'from', 'through', 'the', 'anaconda', 'mine', 'was', 'the', 'largest', 'copper', 'producing', 'mine', 'in', 'the', 'world', 'in', 'mid', 'october', 'the', 'rothschilds', 'french', 'and', 'british', 'bought', 'one', 'quarter', 'of', 'the', 'stock', 'in', 'anaconda', 'for', 'million', 'by', 'amalgamated', 'copper', 'acquired', 'majority', 'stock', 'in', 'the', 'anaconda', 'copper', 'company', 'and', 'the', 'rothschilds', 'appear', 'to', 'have', 'had', 'no', 'further', 'role', 'in', 'the', 'company', 'in', 'ryan', 'and', 'percy', 'rockefeller', 'aggressively', 'speculated', 'on', 'anaconda', 'shares', 'causing', 'them', 'to', 'go', 'up', 'at', 'first', 'at', 'which', 'point', 'they', 'sold', 'and', 'then', 'to', 'go', 'down', 'at', 'which', 'point', 'they', 'bought', 'them', 'back', 'anaconda', 'ranked', 'th', 'among', 'united', 'states', 'corporations', 'in', 'the', 'value', 'of', 'world', 'war', 'ii', 'military', 'production', 'contracts', 'the', 'workers', 'who', 'are', 'under', 'the', 'copper', 'collar', 'are', 'referred', 'to', 'as', 'snakes', 'and', 'the', 'anaconda', 'company', 'is', 'referred', 'to', 'as', 'an', 'ogre', 'introduced', 'in', 'the', 'colt', 'anaconda', 'is', 'a', 'large', 'frame', 'double', 'action', 'revolver', 'featuring', 'a', 'full', 'length', 'under', 'barrel', 'ejection', 'rod', 'lug', 'and', 'six', 'round', 'cylinder', 'designed', 'and', 'produced', 'by', 'the', 'colt', 's', 'manufacturing', 'company', 'there', 'were', 'kodiaks', 'made', 'as', 'a', 'special', 'run', 'of', 'anacondas', 'breaking', 'away', 'from', 'their', 'long', 'history', 'of', 'naming', 'revolvers', 'after', 'snakes', 'there', 'was', 'an', 'uncataloged', 'barrel', 'version', 'of', 'the', 'anaconda', 'with', 'reportedly', 'less', 'than', 'made', 'the', 'trigger', 'actions', 'on', 'these', 'guns', 'are', 'rated', 'as', 'very', 'high', 'quality', 'and', 'the', 'heavy', 'duty', 'solid', 'construction', 'and', 'weight', 'tends', 'to', 'absorb', 'recoil', 'making', 'the', 'anaconda', 'relatively', 'easy', 'to', 'shoot', 'with', 'heavy', 'loads', 'anaconda', 'iii', 'at', 'ft', 'm', 'is', 'one', 'of', 'the', 'largest', 'yachts', 'sailing', 'the', 'whitsunday', 'islands', 'in', 'queensland', 'australia', 'anaconda', 'iii', 'has', 'been', 'doing', 'day', 'night', 'sail', 'and', 'dive', 'trips', 'for', 'over', 'years', 'with', 'departures', 'per', 'week', 'the', 'anaconda', 'iii', 'will', 'typically', 'spend', 'two', 'days', 'in', 'the', 'whitsunday', 'islands', 'visiting', 'locations', 'such', 'as', 'whitehaven', 'beach', 'luncheon', 'bay', 'and', 'blue', 'pearl', 'bay', 'the', 'anaconda', 'range', 'informally', 'known', 'as', 'the', 'pintlars', 'is', 'a', 'group', 'of', 'high', 'mountains', 'located', 'in', 'southwestern', 'montana', 'in', 'the', 'northwestern', 'united', 'states', 'anaconda', 'a', 'hidden', 'variant', 'of', 'snake', 'video', 'game', 'in', 'the', 'timesplitters', 'series', 'anaconda', 'offers', 'a', 'text', 'mode', 'and', 'gui', 'mode', 'so', 'users', 'can', 'install', 'on', 'a', 'wide', 'range', 'of', 'systems', 'anaconda', 'also', 'has', 'a', 'custom', 'text', 'frontend', 'with', 'support', 'for', 'computers', 'with', 'line', 'printer', 'like', 'terminals', 'such', 'as', 'the', 'ibm', 'esa', 'mainframes']\n"
     ]
    }
   ],
   "source": [
    "L4 = []\n",
    "for line in L:\n",
    "    for elem in line:\n",
    "        if elem:\n",
    "            L4.append(elem)\n",
    "print(L4)"
   ]
  },
  {
   "cell_type": "markdown",
   "metadata": {},
   "source": [
    "<hr>"
   ]
  },
  {
   "cell_type": "markdown",
   "metadata": {},
   "source": [
    "**13** Создайте пустой словарь D.\n",
    "\n",
    "Добавьте каждое слово из списка example_L задания 11 в словарь D в качестве ключа.\n",
    "\n",
    "В качестве значения используйте индекс - т.е. уникальное число (начиная с 0 с шагом 1)"
   ]
  },
  {
   "cell_type": "code",
   "execution_count": 53,
   "metadata": {},
   "outputs": [
    {
     "name": "stdout",
     "output_type": "stream",
     "text": [
      "['although', 'the', 'name', 'applies', 'to', 'a', 'group', 'of', 'snakes', '', 'it', 'is', 'often', 'used', 'to', 'refer', 'only', 'to', 'one', 'species', 'in', 'particular', '', 'the', 'common', 'or', 'green', 'anaconda', '', 'eunectes', 'murinus', '', 'which', 'is', 'the', 'largest', 'snake', 'in', 'the', 'world', 'by', 'weight', '', 'and', 'the', 'second', 'longest', '', '', '']\n",
      "{'and': 31, 'often': 11, 'weight': 30, 'is': 10, 'anaconda': 22, 'it': 9, 'one': 15, 'second': 32, 'in': 17, 'species': 16, 'snakes': 8, 'group': 6, 'to': 4, 'only': 14, 'which': 25, 'largest': 26, 'refer': 13, 'used': 12, 'snake': 27, 'although': 0, 'particular': 18, 'eunectes': 23, 'by': 29, 'a': 5, 'name': 2, 'world': 28, 'of': 7, 'green': 21, 'common': 19, 'murinus': 24, 'applies': 3, 'the': 1, 'or': 20, 'longest': 33}\n"
     ]
    }
   ],
   "source": [
    "i = 0\n",
    "D = {}\n",
    "print(example_L)\n",
    "for j in example_L:\n",
    "    if j:\n",
    "        if j not in D:\n",
    "            D[j] = i\n",
    "            i = i+1\n",
    "print(D)\n",
    "     "
   ]
  },
  {
   "cell_type": "markdown",
   "metadata": {},
   "source": [
    "*Подсказка 1* https://pythonworld.ru/tipy-dannyx-v-python/slovari-dict-funkcii-i-metody-slovarej.html\n",
    "\n",
    "<hr>"
   ]
  },
  {
   "cell_type": "markdown",
   "metadata": {},
   "source": [
    "*Подсказка 2*\n",
    "- создайте переменную счётчик, равную 0\n",
    "- пройдите в цикле по списку аналогично задаче 11\n",
    "- для каждого непустого элемента списка проверьте есть ли он в словаре. На выбор 2 красивых варианта:\n",
    "    - метод поможет dict.get(key, -1)\n",
    "    - key not in dict\n",
    "- если элемент отсутствует, добавьте его в словарь (ключ словаря = элемент, значение словаря = счётчик), учеличьте счётчик на 1.\n",
    "\n",
    "<hr>"
   ]
  },
  {
   "cell_type": "markdown",
   "metadata": {},
   "source": [
    "**14** Самопроверка\n",
    "\n",
    "Выведите на печать длинну очищенного от пробелов списка example_L и созданного словаря D\n",
    "\n",
    "Словарь должен быть короче списка, т.к. в нём нет повторов."
   ]
  },
  {
   "cell_type": "code",
   "execution_count": 47,
   "metadata": {},
   "outputs": [
    {
     "name": "stdout",
     "output_type": "stream",
     "text": [
      "42\n",
      "34\n"
     ]
    }
   ],
   "source": [
    "print(len(L3))\n",
    "print(len(D))"
   ]
  },
  {
   "cell_type": "markdown",
   "metadata": {},
   "source": [
    "*Подсказка* len()\n",
    "\n",
    "<hr>"
   ]
  },
  {
   "cell_type": "markdown",
   "metadata": {},
   "source": [
    "**15** Самопроверка 2\n",
    "\n",
    "Выведите на печать максимальное значение индекса в словаре. Удостоверьтесь, что оно меньше, чем длинна исходного списка.\n",
    "\n",
    "*Примечание. Если индексы начинаются с 0, то величина максимального индекса должна быть на 1 меньше длины словаря*"
   ]
  },
  {
   "cell_type": "code",
   "execution_count": 49,
   "metadata": {},
   "outputs": [
    {
     "name": "stdout",
     "output_type": "stream",
     "text": [
      "41\n"
     ]
    }
   ],
   "source": [
    "print(max(D.values()))"
   ]
  },
  {
   "cell_type": "markdown",
   "metadata": {},
   "source": [
    "*Подсказка*\n",
    "- values()\n",
    "- max()\n",
    "\n",
    "<hr>"
   ]
  },
  {
   "cell_type": "markdown",
   "metadata": {},
   "source": [
    "**16** Повторите задание 12, создав предварительно пустой словарь. По мере прохода по тексту добавляйте каждое новое слово в словарь с соответсвующим ему индексом."
   ]
  },
  {
   "cell_type": "code",
   "execution_count": null,
   "metadata": {
    "collapsed": true
   },
   "outputs": [],
   "source": [
    "#Ваш код"
   ]
  },
  {
   "cell_type": "markdown",
   "metadata": {},
   "source": [
    "<hr>"
   ]
  },
  {
   "cell_type": "markdown",
   "metadata": {},
   "source": [
    "**17** Импортируйте numpy и создайте матрицу Matrix из 0 размера MхN, где\n",
    "\n",
    "M - число строк в исходном файле\n",
    "\n",
    "N - число слов в словаре"
   ]
  },
  {
   "cell_type": "code",
   "execution_count": null,
   "metadata": {
    "collapsed": true
   },
   "outputs": [],
   "source": [
    "#Ваш код"
   ]
  },
  {
   "cell_type": "markdown",
   "metadata": {},
   "source": [
    "*Подсказка 1* - https://docs.scipy.org/doc/numpy/reference/generated/numpy.zeros.html\n",
    "\n",
    "<hr>"
   ]
  },
  {
   "cell_type": "markdown",
   "metadata": {},
   "source": [
    "*Подсказка 2* число строк исходного текста соответсвует числу списков внутри списка L.\n",
    "\n",
    "<hr>"
   ]
  },
  {
   "cell_type": "markdown",
   "metadata": {},
   "source": [
    "**18** Пройдите по списку списков, полученному в задании 16.\n",
    "\n",
    "Для каждого слова определите его позицию в матрице Matrix, где\n",
    "- i - номер строки матрицы и номер строки исходного текста\n",
    "- j - номер столбца матрицы и номер ИНДЕКСА слова в словаре\n",
    "\n",
    "И запишите в качестве элемента матрицы число вхождений слова в конкретное предложение\n",
    "\n",
    "*Подсказка 1* Необходимо сделать 2 уровневый цикл для прохода по L. 1 уровень - проход по строкам, 2 уровень - проход по словам внутри строки."
   ]
  },
  {
   "cell_type": "code",
   "execution_count": null,
   "metadata": {
    "collapsed": true
   },
   "outputs": [],
   "source": [
    "#Ваш код"
   ]
  },
  {
   "cell_type": "markdown",
   "metadata": {},
   "source": [
    "*Подсказка 2* чтобы получить координату строки:\n",
    "- перед началом цикла создайте счётчик, равный 0\n",
    "- закончив чтение последнего слова в строке увеличьте значение счётчика на 1.\n",
    "\n",
    "<hr>"
   ]
  },
  {
   "cell_type": "markdown",
   "metadata": {},
   "source": [
    "*Подсказка 3* чтобы получить координату столбца возьмите значение из словаря D, соответсвующее ключу-слову. https://pythonworld.ru/tipy-dannyx-v-python/slovari-dict-funkcii-i-metody-slovarej.html\n",
    "\n",
    "<hr>"
   ]
  },
  {
   "cell_type": "markdown",
   "metadata": {},
   "source": [
    "*Подсказка 4* если вы идёте по строке, получая слово за словом, то можно гарантировать:\n",
    "\n",
    "- первый раз когда вы встретите слово в строке, значение в матрице равно 0\n",
    "- при каждой новой встрече слова в строке, значение в матрице увеличивается на 1\n",
    "\n",
    "<hr>"
   ]
  },
  {
   "cell_type": "markdown",
   "metadata": {},
   "source": [
    "**19** Самопроверка 3.\n",
    "\n",
    "Найдите сумму всех чисел в матрице Matrix.\n",
    "\n",
    "**Сравните её с числом ВСЕХ (а не только уникальных) слов в исходном тексте**."
   ]
  },
  {
   "cell_type": "code",
   "execution_count": null,
   "metadata": {
    "collapsed": true
   },
   "outputs": [],
   "source": [
    "#Ваш код"
   ]
  },
  {
   "cell_type": "markdown",
   "metadata": {},
   "source": [
    "<hr>"
   ]
  },
  {
   "cell_type": "markdown",
   "metadata": {},
   "source": [
    "**20** Самопроверка 4\n",
    "\n",
    "Выведите на печать 1 строку матрицы Matrix и 1 строку исходного текста. Что можно сказать о наблюдаемой закономерности?\n",
    "\n",
    "*Примечание* Строка матрицы может быть слишком большой для полного вывода, тогда ограничьте вывод некоторым количеством первых значений."
   ]
  },
  {
   "cell_type": "code",
   "execution_count": null,
   "metadata": {
    "collapsed": true
   },
   "outputs": [],
   "source": [
    "#Ваш код"
   ]
  },
  {
   "cell_type": "markdown",
   "metadata": {},
   "source": [
    "<hr>"
   ]
  },
  {
   "cell_type": "markdown",
   "metadata": {},
   "source": [
    "**21** Самопроверка 5\n",
    "\n",
    "Выведите на печать несколько произвольных строк матрицы Matrix. Убедитесь, что там нет аномально больших значений (помним, что элементы матрицы - количество вхождений слова в строку, а не индекс!)"
   ]
  },
  {
   "cell_type": "code",
   "execution_count": null,
   "metadata": {
    "collapsed": true
   },
   "outputs": [],
   "source": [
    "#Ваш код"
   ]
  },
  {
   "cell_type": "markdown",
   "metadata": {},
   "source": [
    "<hr>"
   ]
  },
  {
   "cell_type": "markdown",
   "metadata": {},
   "source": [
    "**22** Найдите косинусное расстояние между 2 векторами (u,v), используя https://docs.scipy.org/doc/scipy-0.16.1/reference/generated/scipy.spatial.distance.cosine.html:\n",
    "\n",
    "1. u - 0 строка матрицы Matrix, v - 0 строка матрицы Matrix\n",
    "2. u - 0 строка матрицы Matrix, v - 1 строка матрицы Matrix\n",
    "\n",
    "Какие выводы можно сделать о величине косинусного расстояния для \"похожих\" предложений?"
   ]
  },
  {
   "cell_type": "code",
   "execution_count": null,
   "metadata": {
    "collapsed": true
   },
   "outputs": [],
   "source": [
    "#Ваш код"
   ]
  },
  {
   "cell_type": "markdown",
   "metadata": {},
   "source": [
    "<hr>"
   ]
  }
 ],
 "metadata": {
  "kernelspec": {
   "display_name": "Python 2",
   "language": "python",
   "name": "python2"
  },
  "language_info": {
   "codemirror_mode": {
    "name": "ipython",
    "version": 2
   },
   "file_extension": ".py",
   "mimetype": "text/x-python",
   "name": "python",
   "nbconvert_exporter": "python",
   "pygments_lexer": "ipython2",
   "version": "2.7.14"
  }
 },
 "nbformat": 4,
 "nbformat_minor": 1
}
