{
 "cells": [
  {
   "cell_type": "markdown",
   "metadata": {},
   "source": [
    "# Проверка ЦПТ"
   ]
  },
  {
   "cell_type": "code",
   "execution_count": 1,
   "metadata": {},
   "outputs": [],
   "source": [
    "import numpy as np\n",
    "import matplotlib.pyplot as plt\n",
    "import scipy.stats as sts\n",
    "%matplotlib inline\n",
    "import math\n",
    "from scipy.stats import nakagami\n",
    "#импортируем необходимые библиотеки"
   ]
  },
  {
   "cell_type": "markdown",
   "metadata": {},
   "source": [
    "## Мною была выбрана функция распределения Накагами "
   ]
  },
  {
   "cell_type": "code",
   "execution_count": 3,
   "metadata": {},
   "outputs": [
    {
     "name": "stdout",
     "output_type": "stream",
     "text": [
      "0.9693106997139541\n",
      "0.06043676742004467\n"
     ]
    }
   ],
   "source": [
    "nu = 4.0 # Определим параметр для распределения (см. вики)\n",
    "nakagami = nakagami(nu=4.0)\n",
    "#Посчитаем матожидание и дисперсию для выбранного распределения.\n",
    "E=nakagami.mean()\n",
    "D=nakagami.var()\n",
    "print E\n",
    "print D"
   ]
  },
  {
   "cell_type": "code",
   "execution_count": 4,
   "metadata": {},
   "outputs": [],
   "source": [
    "#генерируем выборку 1000 значений\n",
    "sample = nakagami.rvs(1000)"
   ]
  },
  {
   "cell_type": "code",
   "execution_count": 5,
   "metadata": {},
   "outputs": [],
   "source": [
    "#определяем массив для построения плот. распр. \n",
    "x = np.linspace(1,10,1000)#определяем массив точек для построения плотности распределения\n",
    "pdf = nakagami.pdf(x)#вычисляем значения плотности распределения от выборки"
   ]
  },
  {
   "cell_type": "code",
   "execution_count": 6,
   "metadata": {},
   "outputs": [
    {
     "data": {
      "text/plain": [
       "<matplotlib.legend.Legend at 0xb3c8898>"
      ]
     },
     "execution_count": 6,
     "metadata": {},
     "output_type": "execute_result"
    },
    {
     "data": {
      "image/png": "[encoded data removed]",
      "text/plain": [
       "<matplotlib.figure.Figure at 0xb3353c8>"
      ]
     },
     "metadata": {},
     "output_type": "display_data"
    }
   ],
   "source": [
    "#строим гистрограмму выборки и теоретическую плотность распределения\n",
    "plt.plot(x, pdf, label='theoretical PDF')\n",
    "plt.hist(sample,bins = 50, range =(1,10), normed=True)\n",
    "plt.ylabel('$f(x)$/number of samples')\n",
    "plt.xlabel('$x$')\n",
    "plt.legend(loc='best')"
   ]
  },
  {
   "cell_type": "markdown",
   "metadata": {},
   "source": [
    "## Оценим распределение выборочного среднего случайной величины при разных объёмах выборок."
   ]
  },
  {
   "cell_type": "markdown",
   "metadata": {},
   "source": [
    "## При n=5"
   ]
  },
  {
   "cell_type": "code",
   "execution_count": 7,
   "metadata": {},
   "outputs": [],
   "source": [
    "n=5\n",
    "samplefor5=np.array([])#создадим пустой массив для хранения выборочных средних\n",
    "i=1\n",
    "while i <= 1000:# в цикле реализуем генерацию 1000 выборок\n",
    "    sample5v = nakagami.rvs(n)  #генерация выборки\n",
    "    mean5v=sum(sample5v)/n  #считаем выборочное среднее\n",
    "    samplefor5=np.append(samplefor5,mean5v)#добавляем в массив полученные значения\n",
    "    i+=1\n"
   ]
  },
  {
   "cell_type": "code",
   "execution_count": 8,
   "metadata": {},
   "outputs": [
    {
     "data": {
      "text/plain": [
       "<matplotlib.legend.Legend at 0xb551d30>"
      ]
     },
     "execution_count": 8,
     "metadata": {},
     "output_type": "execute_result"
    },
    {
     "data": {
      "image/png": "[encoded data removed]",
      "text/plain": [
       "<matplotlib.figure.Figure at 0xb335320>"
      ]
     },
     "metadata": {},
     "output_type": "display_data"
    }
   ],
   "source": [
    "#Посчитаем среднекв. отклонение и мат ожидание для нормального распределения.\n",
    "D5=D/n  #дисперсия \n",
    "sigma5=math.sqrt(D5) #сигма \n",
    "norm5 = sts.norm(E, sigma5) #определяем нормальное распределение\n",
    "pdf5 = norm5.pdf(x[:500])#получаем плотность распределения\n",
    "#строим гистограмму \n",
    "plt.plot(x[:500], pdf5, label='PDF(n=5)')\n",
    "plt.hist(samplefor5, bins =80, range=(0,5), normed=True)\n",
    "plt.ylabel('number of samples')\n",
    "plt.xlabel('$x$')\n",
    "plt.legend(loc='best')\n"
   ]
  },
  {
   "cell_type": "markdown",
   "metadata": {},
   "source": [
    "## При n=15"
   ]
  },
  {
   "cell_type": "code",
   "execution_count": 9,
   "metadata": {},
   "outputs": [],
   "source": [
    "n=15\n",
    "samplefor15=np.array([])#создадим пустой массив для хранения выборочных средних\n",
    "i=1\n",
    "while i <= 1000:# в цикле реализуем генерацию 1000 выборок\n",
    "    sample15v = nakagami.rvs(n)  #генерация выборки\n",
    "    mean15v=sum(sample15v)/n  #считаем выборочное среднее\n",
    "    samplefor15=np.append(samplefor15,mean15v)#добавляем в массив полученные значения\n",
    "    i+=1\n"
   ]
  },
  {
   "cell_type": "code",
   "execution_count": 10,
   "metadata": {},
   "outputs": [
    {
     "data": {
      "text/plain": [
       "<matplotlib.legend.Legend at 0xc81bf60>"
      ]
     },
     "execution_count": 10,
     "metadata": {},
     "output_type": "execute_result"
    },
    {
     "data": {
      "image/png": "[encoded data removed]",
      "text/plain": [
       "<matplotlib.figure.Figure at 0xb526e80>"
      ]
     },
     "metadata": {},
     "output_type": "display_data"
    }
   ],
   "source": [
    "#Посчитаем среднекв. отклонение и мат ожидание для нормального распределения.\n",
    "D15=D/n  #дисперсия \n",
    "sigma15=math.sqrt(D15) #сигма \n",
    "norm15 = sts.norm(E, sigma15) #определяем нормальное распределение\n",
    "pdf15 = norm15.pdf(x[:500])#получаем плотность распределения\n",
    "#строим гистограмму \n",
    "plt.plot(x[:500], pdf15, label='PDF(n=15)')\n",
    "plt.hist(samplefor15, bins =80, range=(0,5), normed=True)\n",
    "plt.ylabel('number of samples')\n",
    "plt.xlabel('$x$')\n",
    "plt.legend(loc='best')"
   ]
  },
  {
   "cell_type": "markdown",
   "metadata": {},
   "source": [
    "## При n=50"
   ]
  },
  {
   "cell_type": "code",
   "execution_count": 15,
   "metadata": {},
   "outputs": [],
   "source": [
    "n=50\n",
    "samplefor80=np.array([])#создадим пустой массив для хранения выборочных средних\n",
    "i=1\n",
    "while i <= 1000:# в цикле реализуем генерацию 1000 выборок\n",
    "    sample80v = nakagami.rvs(n)  #генерация выборки\n",
    "    mean80v=sum(sample80v)/n  #считаем выборочное среднее\n",
    "    samplefor80=np.append(samplefor80,mean80v)#добавляем в массив полученные значения\n",
    "    i+=1\n"
   ]
  },
  {
   "cell_type": "code",
   "execution_count": 16,
   "metadata": {},
   "outputs": [
    {
     "data": {
      "text/plain": [
       "<matplotlib.legend.Legend at 0xd20e400>"
      ]
     },
     "execution_count": 16,
     "metadata": {},
     "output_type": "execute_result"
    },
    {
     "data": {
      "image/png": "[encoded data removed]",
      "text/plain": [
       "<matplotlib.figure.Figure at 0xd016898>"
      ]
     },
     "metadata": {},
     "output_type": "display_data"
    }
   ],
   "source": [
    "#Посчитаем среднекв. отклонение и мат ожидание для нормального распределения.\n",
    "D80=D/n  #дисперсия \n",
    "sigma80=math.sqrt(D80) #сигма \n",
    "norm80 = sts.norm(E, sigma80) #определяем нормальное распределение\n",
    "pdf80 = norm80.pdf(x[:500])#получаем плотность распределения\n",
    "#строим гистограмму \n",
    "plt.plot(x[:500], pdf80, label='PDF(n=15)')\n",
    "plt.hist(samplefor80, bins =80, range=(0,5), normed=True)\n",
    "plt.ylabel('number of samples')\n",
    "plt.xlabel('$x$')\n",
    "plt.legend(loc='best')"
   ]
  },
  {
   "cell_type": "markdown",
   "metadata": {},
   "source": [
    "# Вывод\n",
    "Было выбрано распределение Накагами. По заданию сгенерированы выборки объемом 1000, построены гистограммы и теоритическая плотность распределения.  \n",
    "\n",
    "Для оценки распределения выборочного среднего были выбраны разные значения выборок (n=5,15,50).\n",
    "По построенным графикам, можно сделать вывод, что качество аппроксимации значительно повышается с ростом количества выборок (наилучшее при n=50).\n",
    "\n",
    "В силу особенностей функции имеется граница значений, что приводит к ограничению значений аппроксимации.  \n"
   ]
  },
  {
   "cell_type": "code",
   "execution_count": null,
   "metadata": {},
   "outputs": [],
   "source": []
  }
 ],
 "metadata": {
  "kernelspec": {
   "display_name": "Python 2",
   "language": "python",
   "name": "python2"
  },
  "language_info": {
   "codemirror_mode": {
    "name": "ipython",
    "version": 2
   },
   "file_extension": ".py",
   "mimetype": "text/x-python",
   "name": "python",
   "nbconvert_exporter": "python",
   "pygments_lexer": "ipython2",
   "version": "2.7.14"
  }
 },
 "nbformat": 4,
 "nbformat_minor": 2
}
