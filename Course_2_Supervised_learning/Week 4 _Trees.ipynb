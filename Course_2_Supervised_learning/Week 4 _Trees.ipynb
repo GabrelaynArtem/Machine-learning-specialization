{
 "cells": [
  {
   "cell_type": "code",
   "execution_count": 48,
   "metadata": {},
   "outputs": [],
   "source": [
    "from sklearn import cross_validation, datasets, metrics, tree \n",
    "\n",
    "import numpy as np\n",
    "import pandas as pd"
   ]
  },
  {
   "cell_type": "code",
   "execution_count": 49,
   "metadata": {},
   "outputs": [],
   "source": [
    "digits = datasets.load_digits()"
   ]
  },
  {
   "cell_type": "code",
   "execution_count": 50,
   "metadata": {},
   "outputs": [],
   "source": [
    "X = digits.data"
   ]
  },
  {
   "cell_type": "code",
   "execution_count": 51,
   "metadata": {},
   "outputs": [],
   "source": [
    "y = digits.target\n",
    "cv_size = 10 "
   ]
  },
  {
   "cell_type": "code",
   "execution_count": 52,
   "metadata": {},
   "outputs": [],
   "source": [
    "from sklearn.cross_validation import cross_val_score"
   ]
  },
  {
   "cell_type": "code",
   "execution_count": 53,
   "metadata": {},
   "outputs": [],
   "source": [
    "clf = tree.DecisionTreeClassifier(random_state=1)"
   ]
  },
  {
   "cell_type": "code",
   "execution_count": 62,
   "metadata": {},
   "outputs": [],
   "source": [
    "def plot_scores(scores):\n",
    "    pylab.grid(True)\n",
    "    pylab.plot(range(cv_size), scores, label='cv scores')\n",
    "    pylab.ylim((0.0, 1.05))\n",
    "    pylab.legend(loc='lower right')"
   ]
  },
  {
   "cell_type": "code",
   "execution_count": 64,
   "metadata": {},
   "outputs": [],
   "source": [
    "def write_ans(filename, score):\n",
    "    with open(filename, 'w') as f_out:\n",
    "        f_out.write(str(score))"
   ]
  },
  {
   "cell_type": "code",
   "execution_count": 65,
   "metadata": {},
   "outputs": [
    {
     "name": "stdout",
     "output_type": "stream",
     "text": [
      "0.8308624439503834\n"
     ]
    }
   ],
   "source": [
    "ans1 = cross_val_score(clf, X, y, cv = cv_size)\n",
    "ans1 = np.mean(ans1)\n",
    "print(ans1)\n",
    "write_ans(\"task_1.txt\", ans1)"
   ]
  },
  {
   "cell_type": "code",
   "execution_count": 66,
   "metadata": {},
   "outputs": [],
   "source": [
    "from sklearn.ensemble import BaggingClassifier"
   ]
  },
  {
   "cell_type": "code",
   "execution_count": 67,
   "metadata": {},
   "outputs": [],
   "source": [
    "bag_class = BaggingClassifier(base_estimator=clf, n_estimators=100)"
   ]
  },
  {
   "cell_type": "code",
   "execution_count": 69,
   "metadata": {},
   "outputs": [],
   "source": [
    "ans2 = cross_val_score(bag_class, X, y, cv = cv_size)\n",
    "ans2 = np.mean(ans2)"
   ]
  },
  {
   "cell_type": "code",
   "execution_count": 70,
   "metadata": {},
   "outputs": [],
   "source": [
    "write_ans(\"task_2.txt\", ans2)"
   ]
  },
  {
   "cell_type": "code",
   "execution_count": 73,
   "metadata": {},
   "outputs": [],
   "source": [
    "n_f = int(np.sqrt(X.shape[1]))"
   ]
  },
  {
   "cell_type": "code",
   "execution_count": 75,
   "metadata": {},
   "outputs": [],
   "source": [
    "bag_class2 = BaggingClassifier(base_estimator=clf, n_estimators=100, max_features = n_f)\n",
    "ans3 = cross_val_score(bag_class, X, y, cv = cv_size)\n",
    "ans3 = np.mean(ans3)\n",
    "write_ans(\"task_3.txt\", ans3)"
   ]
  },
  {
   "cell_type": "code",
   "execution_count": 83,
   "metadata": {},
   "outputs": [
    {
     "name": "stdout",
     "output_type": "stream",
     "text": [
      "0.9538782043698714\n"
     ]
    }
   ],
   "source": [
    "clf_new = tree.DecisionTreeClassifier(max_features = n_f)\n",
    "bag_class3 = BaggingClassifier(clf_new, n_estimators=100)\n",
    "ans4 = cross_val_score(bag_class3, X, y, cv = cv_size)\n",
    "ans4 = np.mean(ans4)\n",
    "print(ans4)\n",
    "write_ans(\"task_4.txt\", ans4)"
   ]
  },
  {
   "cell_type": "code",
   "execution_count": 84,
   "metadata": {},
   "outputs": [],
   "source": [
    "from sklearn.ensemble import RandomForestClassifier"
   ]
  },
  {
   "cell_type": "code",
   "execution_count": 87,
   "metadata": {},
   "outputs": [],
   "source": [
    "n_trees = range(5,100,5)"
   ]
  },
  {
   "cell_type": "code",
   "execution_count": 96,
   "metadata": {},
   "outputs": [],
   "source": [
    "scoring = []\n",
    "for i in n_trees:\n",
    "    ranfor = RandomForestClassifier(max_features = n_f, n_estimators = i)\n",
    "    ans = cross_val_score(ranfor, X, y, cv = cv_size, scoring = 'accuracy')\n",
    "    scoring.append(np.mean(ans))\n"
   ]
  },
  {
   "cell_type": "code",
   "execution_count": 97,
   "metadata": {},
   "outputs": [
    {
     "data": {
      "text/plain": [
       "[0.8838271498029219,\n",
       " 0.9315206103325471,\n",
       " 0.9361322420513896,\n",
       " 0.9445242826718496,\n",
       " 0.9427595709215758,\n",
       " 0.9488458193802962,\n",
       " 0.9455068245335637,\n",
       " 0.9483344028353757,\n",
       " 0.9488566059088133,\n",
       " 0.9471833429458769,\n",
       " 0.947183874363622,\n",
       " 0.9466277217567759,\n",
       " 0.9517204030477796,\n",
       " 0.9555976195664873,\n",
       " 0.9538388360232618,\n",
       " 0.9506002127557898,\n",
       " 0.952740657075684,\n",
       " 0.9477764691261441,\n",
       " 0.9456023778096541]"
      ]
     },
     "execution_count": 97,
     "metadata": {},
     "output_type": "execute_result"
    }
   ],
   "source": [
    "scoring"
   ]
  },
  {
   "cell_type": "code",
   "execution_count": 100,
   "metadata": {},
   "outputs": [
    {
     "data": {
      "text/plain": [
       "<matplotlib.legend.Legend at 0xe98b320>"
      ]
     },
     "execution_count": 100,
     "metadata": {},
     "output_type": "execute_result"
    },
    {
     "data": {
      "image/png": "[encoded data removed]",
      "text/plain": [
       "<matplotlib.figure.Figure at 0xe98b2e8>"
      ]
     },
     "metadata": {},
     "output_type": "display_data"
    }
   ],
   "source": [
    "pylab.plot(n_trees, scoring, \"-\", marker = 'o', label = \"Random_Forest\")\n",
    "pylab.grid(True)\n",
    "pylab.xlabel('n_trees')\n",
    "pylab.ylabel('score')\n",
    "pylab.title('Accuracy score')\n",
    "pylab.legend(loc='lower right')"
   ]
  },
  {
   "cell_type": "code",
   "execution_count": 102,
   "metadata": {},
   "outputs": [],
   "source": [
    "scoring2 = []\n",
    "total_features = X.shape[1]\n",
    "n_features = np.arange(0.1,1.1,0.1)\n",
    "for j in n_features:\n",
    "    maxfeat = int(j*total_features)\n",
    "    ranfor2 = RandomForestClassifier(max_features = maxfeat, n_estimators = 50)\n",
    "    ans2 = cross_val_score(ranfor2, X, y, cv = cv_size, scoring = 'accuracy')\n",
    "    scoring2.append(np.mean(ans2))"
   ]
  },
  {
   "cell_type": "code",
   "execution_count": 103,
   "metadata": {},
   "outputs": [
    {
     "data": {
      "text/plain": [
       "<matplotlib.legend.Legend at 0xecd5978>"
      ]
     },
     "execution_count": 103,
     "metadata": {},
     "output_type": "execute_result"
    },
    {
     "data": {
      "image/png": "[encoded data removed]",
      "text/plain": [
       "<matplotlib.figure.Figure at 0xecd59e8>"
      ]
     },
     "metadata": {},
     "output_type": "display_data"
    }
   ],
   "source": [
    "pylab.plot(n_features, scoring2, \"-\", marker = 'o', label = \"Random_Forest\")\n",
    "pylab.grid(True)\n",
    "pylab.xlabel('n_trees')\n",
    "pylab.ylabel('score')\n",
    "pylab.title('Accuracy score')\n",
    "pylab.legend(loc='lower right')"
   ]
  },
  {
   "cell_type": "code",
   "execution_count": 107,
   "metadata": {},
   "outputs": [
    {
     "name": "stdout",
     "output_type": "stream",
     "text": [
      "0.9059354628480879\n",
      "0.9539301070561559\n"
     ]
    }
   ],
   "source": [
    "ranfor3 = RandomForestClassifier(max_features = n_f, n_estimators = 50, max_depth = 5)\n",
    "ans3 = cross_val_score(ranfor3, X, y, cv = cv_size, scoring = 'accuracy')\n",
    "print(np.mean(ans3))\n",
    "ranfor4 = RandomForestClassifier(max_features = n_f, n_estimators = 50)\n",
    "ans4 = cross_val_score(ranfor4, X, y, cv = cv_size, scoring = 'accuracy')\n",
    "print(np.mean(ans4))"
   ]
  },
  {
   "cell_type": "code",
   "execution_count": null,
   "metadata": {},
   "outputs": [],
   "source": []
  }
 ],
 "metadata": {
  "kernelspec": {
   "display_name": "Python 2",
   "language": "python",
   "name": "python2"
  },
  "language_info": {
   "codemirror_mode": {
    "name": "ipython",
    "version": 2
   },
   "file_extension": ".py",
   "mimetype": "text/x-python",
   "name": "python",
   "nbconvert_exporter": "python",
   "pygments_lexer": "ipython2",
   "version": "2.7.14"
  }
 },
 "nbformat": 4,
 "nbformat_minor": 2
}
